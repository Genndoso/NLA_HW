{
 "cells": [
  {
   "cell_type": "markdown",
   "metadata": {},
   "source": [
    "# Problem set 3 (90 pts)\n",
    "\n",
    "## Important note: the template for your solution filename is Name_Surname_PS3.ipynb\n",
    "\n",
    "### The correct answer to the bonus question can be used as an additional reason to increase the final grade in the border case"
   ]
  },
  {
   "cell_type": "markdown",
   "metadata": {},
   "source": [
    "## Problem 1 (25 pts)\n",
    "\n",
    "- (5 pts) Prove that $\\mathrm{vec}(AXB) = (B^\\top \\otimes A)\\, \\mathrm{vec}(X)$ if $\\mathrm{vec}(X)$ is a columnwise reshape of a matrix into a long vector. What does it change if the reshape is rowwise? \n",
    "\n",
    "**Note:** To make a columnwise reshape in Python one should use ```np.reshape(X, order='f')```, where the string ```'f'``` stands for the Fortran ordering. \n",
    "\n",
    "- (2 pts) What is the complexity of a naive computation of $(A \\otimes B) x$? Show how it can be reduced.\n",
    "\n",
    "- (3 pts) Let matrices $A$ and $B$ have eigendecompositions $A = S_A\\Lambda_A S_A^{-1}$ and $B = S_B\\Lambda_B S^{-1}_B$. Find eigenvectors and eigenvalues of the matrix $A\\otimes I + I \\otimes B$, where dimension of $I$ coincides with the dimension of $A$ and $B$.\n",
    "\n",
    "\n",
    "- (10 pts) Let $A = \\mathrm{diag}\\left(\\frac{1}{1000},\\frac{2}{1000},\\dots \\frac{999}{1000}, 1, 1000 \\right)$. Estimate analytically the number of iterations required  to solve linear system with $A$ with the relative accuracy $10^{-4}$ using\n",
    "    - Richardson iteration with the optimal choice of parameter (use $2$-norm)\n",
    "    - Chebyshev iteration (use $2$-norm)\n",
    "    - Conjugate gradient method (use $A$-norm).\n",
    "    \n",
    "- (5 pts) Provide numerical confirmation of your estimate from theoretical point of view"
   ]
  },
  {
   "cell_type": "markdown",
   "metadata": {},
   "source": [
    "- (5 pts) Prove that $\\mathrm{vec}(AXB) = (B^\\top \\otimes A)\\, \\mathrm{vec}(X)$ if $\\mathrm{vec}(X)$ is a columnwise reshape of a matrix into a long vector. What does it change if the reshape is rowwise?"
   ]
  },
  {
   "cell_type": "markdown",
   "metadata": {},
   "source": [
    "\n",
    "\n",
    "By definition if $A = [a_1 a_2 ... a_n]$ ,  then\n",
    "$ vec(A) = \\begin{bmatrix} a_1 \\\\ a_2 \\\\ ... \\\\ a_n \\end{bmatrix}$\n",
    "\n",
    "Let $B = \\begin{bmatrix} b_{11} & b_{12} & ... & b_{1n} \\\\ b_{21} & b_{22} & ... & b_{2n} \\\\ ...& & & \\\\  b_{m1} & b_{m2} & ... & b_{mn} \\end{bmatrix} = [b_1 b_2 ... b_n] $ m $\\times$ n \n",
    "\n",
    "$X = [x_1 x_2 .. x_m]$\n",
    "\n",
    "k column of $AXB$:\n",
    "\n",
    "$(AXB)_k = A(Xb_k) = A \\sum_{i=1}^m x_i b_{ik} = [b_{1k} A, b_{2k} A, ..., b_{mk} A] \\begin{bmatrix} x_1 \\\\ x_2 \\\\ ... \\\\ x_m \\end{bmatrix} = $\n",
    " \n",
    "$ \\begin{bmatrix} x_1 \\\\ x_2 \\\\ ... \\\\ x_m \\end{bmatrix} = vec(X)$\n",
    " \n",
    "By definition  $ A \\otimes B$\n",
    "\n",
    "$= ([b_{1k}, b_{2k}, ..., b_{mk}] \\otimes A) vec(X) = (b^T_k \\otimes A) vec(X)$\n",
    "\n",
    "Let put all columns together\n",
    "\n",
    "$\\mathrm{vec}(AXB) = \\begin{bmatrix} (AXB)_1 \\\\ (AXB)_2 \\\\ ... \\\\ (AXB)_n \\end{bmatrix} = \\begin{bmatrix} b^T_1 \\otimes A \\\\ b^T_2 \\otimes A \\\\ ... \\\\ b^T_n \\otimes A \\end{bmatrix} vec(X) = (B^\\top \\otimes A)\\, \\mathrm{vec}(X) $\n",
    "\n",
    "If we use rows:\n",
    "$(AXB)_k = (a_kX)B = \\sum_{i=1}^{m} a_{ki} x_i \\cdot B = \\sum_{i=1}^{m} x_i (a_{ki} B) = vec(X) \\cdot ([a_{k1}, \\ldots, a_{km}] \\otimes B) = vec(X) \\cdot (A_k^{T} \\otimes B)$ \n",
    "\n",
    "$\\mathrm{vec}(AXB) = vec(X) \\cdot (A^{T} \\otimes B)$"
   ]
  },
  {
   "cell_type": "markdown",
   "metadata": {},
   "source": [
    "- (2 pts) What is the complexity of a naive computation of $(A \\otimes B) x$? Show how it can be reduced."
   ]
  },
  {
   "cell_type": "markdown",
   "metadata": {},
   "source": [
    "Let $A \\in \\mathbb{R}_{n \\times m}$, $B \\in \\mathbb{R}_{k \\times l}$\n",
    "$x \\in \\mathbb{R}_{ml \\times 1}$, $X \\in \\mathbb{R}_{l \\times m}$ \n",
    "\n",
    "Complexity $(A \\otimes B)x$ is $\\mathcal{O}(nkml) = O(n^4)$ \n",
    "\n",
    "Let $x$ = vec($X$), then:\n",
    "$$ (A \\otimes B) \\mbox{vec}(X) = \\mbox{vec}(BXA^T) $$\n",
    "Complexity $\\mbox{vec}(BXA^T)$ is $\\mathcal{O}((n+l)km) = O(n^3) $"
   ]
  },
  {
   "cell_type": "markdown",
   "metadata": {},
   "source": [
    "- (3 pts) Let matrices $A$ and $B$ have eigendecompositions $A = S_A\\Lambda_A S_A^{-1}$ and $B = S_B\\Lambda_B S^{-1}_B$. Find eigenvectors and eigenvalues of the matrix $A\\otimes I + I \\otimes B$, where dimension of $I$ coincides with the dimension of $A$ and $B$.\n",
    "​"
   ]
  },
  {
   "cell_type": "markdown",
   "metadata": {},
   "source": [
    "Let's use some properties of a kronecker product"
   ]
  },
  {
   "cell_type": "markdown",
   "metadata": {},
   "source": [
    "$A \\otimes (B + C) = (A \\otimes B) + (A \\otimes C)$"
   ]
  },
  {
   "cell_type": "markdown",
   "metadata": {},
   "source": [
    "$(A \\otimes B)(C \\otimes D) = AC \\otimes BD$"
   ]
  },
  {
   "cell_type": "markdown",
   "metadata": {},
   "source": [
    "Suppose $v$ - eigenvector of B and $u$ - eigenvector of A,  $\\lambda_b$ and $\\lambda_a$ - eigenvalues."
   ]
  },
  {
   "cell_type": "markdown",
   "metadata": {},
   "source": [
    "- $ (A\\otimes I + I \\otimes B)(v \\otimes u)  = Av \\otimes u + v \\otimes Bu = \\lambda_A v \\otimes u + v \\otimes \\lambda_Bu = (\\lambda_{A} + \\lambda_{B})(v \\otimes u)$"
   ]
  },
  {
   "cell_type": "markdown",
   "metadata": {},
   "source": [
    "$\n",
    "(S_A^{-1} \\otimes S_B^{-1}) (A \\otimes I + I \\otimes B) (S_A \\otimes S_B) = (S_A^{-1} \\otimes S_B^{-1}) (A \\otimes I) (S_A \\otimes S_B) + (S_A^{-1} \\otimes S_B^{-1}) (I \\otimes B) (S_A \\otimes S_B) =  $\n",
    "\n",
    "$ = S_A^{-1} A S_A \\otimes S^{-1}_B I S_B + S_A^{-1} I S_A \\otimes S_B^{-1} B S_B =  \\Lambda_A \\otimes I + I \\otimes \\Lambda_B $"
   ]
  },
  {
   "cell_type": "markdown",
   "metadata": {},
   "source": [
    "- (10 pts) Let $A = \\mathrm{diag}\\left(\\frac{1}{1000},\\frac{2}{1000},\\dots \\frac{999}{1000}, 1, 1000 \\right)$. Estimate analytically the number of iterations required  to solve linear system with $A$ with the relative accuracy $10^{-4}$ using\n",
    "    - Richardson iteration with the optimal choice of parameter (use $2$-norm)\n",
    "    - Chebyshev iteration (use $2$-norm)\n",
    "    - Conjugate gradient method (use $A$-norm)."
   ]
  },
  {
   "cell_type": "markdown",
   "metadata": {},
   "source": [
    "Richardson iteration"
   ]
  },
  {
   "cell_type": "code",
   "execution_count": 1,
   "metadata": {},
   "outputs": [],
   "source": [
    "import numpy as np"
   ]
  },
  {
   "cell_type": "markdown",
   "metadata": {},
   "source": [
    "$\\varepsilon_k = x_k - x_* $, $\\varepsilon_k \\leq q^k \\varepsilon_0$\n",
    "\n",
    "$\\varepsilon_0 = \\|x_0 - x_*\\|_2 $, let $x_0 = 0$, then $\\varepsilon_0 = \\|x_*\\|_2$\n",
    "\n",
    "$10^{-4} \\geq q^k \\varepsilon_0$, $q^k \\leq 10^{-4} $,$k \\log q \\leq -4$\n",
    "\n",
    "$$q = \\frac{\\lambda_{max}-\\lambda_{min}}{\\lambda_{max}+\\lambda_{min}} $$\n",
    "$$\\frac{1000-\\frac{1}{1000}}{1000+\\frac{1}{1000}}$$\n",
    "$$=  \\frac{1000000 - 1}{1000000 + 1} = \\frac{999999}{1000001}= 0.999998000002$$ \n",
    "$$k \\geq \\frac{-4}{\\log 0.999998000002} $$ \n",
    "$$k \\geq \\frac{-4}{\\log 0.999998000002}  - \\log_q \\varepsilon_0$$\n",
    "\n",
    "\n",
    "Let $\\varepsilon_0 = 1$\n",
    "\n",
    "$k \\geq 4605170 $"
   ]
  },
  {
   "cell_type": "markdown",
   "metadata": {},
   "source": [
    "Chebyshev iteration"
   ]
  },
  {
   "cell_type": "markdown",
   "metadata": {},
   "source": [
    "For chebyshev iteration and 2-d norm we have \n",
    "\n",
    "$$q = \\frac{\\sqrt{cond A}-1}{\\sqrt{cond A}+1}$$"
   ]
  },
  {
   "cell_type": "markdown",
   "metadata": {},
   "source": [
    " $$\\varepsilon_{k+1} \\leq p(A) q^{k} \\varepsilon_0$$\n",
    " \n",
    "p(A) is a matrix polynomial"
   ]
  },
  {
   "cell_type": "markdown",
   "metadata": {},
   "source": [
    "$$\\varepsilon_k \\leq C q^{k-1} \\varepsilon_0$$"
   ]
  },
  {
   "cell_type": "markdown",
   "metadata": {},
   "source": [
    "$$ \\log{\\varepsilon_k} \\leq \\log{C} +  \\log{q^{k-1}} + \\log{\\varepsilon_0}$$\n"
   ]
  },
  {
   "cell_type": "markdown",
   "metadata": {},
   "source": [
    "$$ (k-1)\\log q \\geq \\log \\varepsilon_k - \\log C - \\log \\varepsilon_0 $$"
   ]
  },
  {
   "cell_type": "markdown",
   "metadata": {},
   "source": [
    " $$condA = \\frac{\\lambda_{max}}{\\lambda_{min}} = \\frac{1000}{\\frac{1}{1000}}= 10^6$$"
   ]
  },
  {
   "cell_type": "markdown",
   "metadata": {},
   "source": [
    "$$ q^k = \\frac{10^3 - 1}{10^3+1} = 0.998002$$\n"
   ]
  },
  {
   "cell_type": "markdown",
   "metadata": {},
   "source": [
    "$$C = 1 $$"
   ]
  },
  {
   "cell_type": "markdown",
   "metadata": {},
   "source": [
    "$$ \\varepsilon_0 = 1 $$"
   ]
  },
  {
   "cell_type": "markdown",
   "metadata": {},
   "source": [
    "$$ (k-1) \\log 0.998002 \\geq -4 $$\n",
    "$$ k \\geq \\frac{-4}{ \\log 0.998002} +1$$"
   ]
  },
  {
   "cell_type": "markdown",
   "metadata": {},
   "source": [
    "$$ k \\geq 4606 $$"
   ]
  },
  {
   "cell_type": "code",
   "execution_count": 2,
   "metadata": {},
   "outputs": [
    {
     "data": {
      "text/plain": [
       "4605.168650930854"
      ]
     },
     "execution_count": 2,
     "metadata": {},
     "output_type": "execute_result"
    }
   ],
   "source": [
    "-4/np.log10(999/1001)"
   ]
  },
  {
   "cell_type": "markdown",
   "metadata": {},
   "source": [
    "Conjugate gradient method (use  A -norm)"
   ]
  },
  {
   "cell_type": "markdown",
   "metadata": {},
   "source": [
    "$$q^k = \\gamma (\\frac{\\sqrt{cond A}-1}{\\sqrt{cond A}+1})^k = 2 (\\frac{\\sqrt{10^6} - 1}{\\sqrt{10^6} - 1})^k  $$"
   ]
  },
  {
   "cell_type": "markdown",
   "metadata": {},
   "source": [
    "$$ \\log_(2 \\Big( \\frac{999}{1001} \\Big)^k ) \\geq -4 $$\n",
    "\n",
    "$$ \\log 2 + k \\log_(\\frac{999}{1001})  \\geq -4 $$\n",
    "\n",
    "$$k \\geq \\frac{-4 \\log 2}{\\log_(\\frac{999}{1001})}  = 4952$$\n",
    "\n"
   ]
  },
  {
   "cell_type": "markdown",
   "metadata": {},
   "source": [
    "- (5 pts) Provide numerical confirmation of your estimate from theoretical point of view"
   ]
  },
  {
   "cell_type": "code",
   "execution_count": 5,
   "metadata": {},
   "outputs": [],
   "source": [
    "# Your solution is here"
   ]
  },
  {
   "cell_type": "markdown",
   "metadata": {},
   "source": [
    "richardson"
   ]
  },
  {
   "cell_type": "code",
   "execution_count": 6,
   "metadata": {},
   "outputs": [],
   "source": [
    "import numpy as np\n",
    "import scipy \n",
    "import scipy.sparse\n",
    "import scipy.sparse.linalg\n",
    "import scipy\n",
    "from scipy.sparse import csc_matrix"
   ]
  },
  {
   "cell_type": "code",
   "execution_count": 10,
   "metadata": {},
   "outputs": [],
   "source": [
    "a = np.concatenate((np.array([(1/1000)*i for i in range(1,1001)]),np.array([1000])), axis=0)\n",
    "A = scipy.sparse.spdiags(a,0, len(a), len(a), 'csr')\n",
    "tau = 2.0/(a.max() + a.min())"
   ]
  },
  {
   "cell_type": "code",
   "execution_count": 11,
   "metadata": {},
   "outputs": [
    {
     "data": {
      "text/plain": [
       "0.001999998000002"
      ]
     },
     "execution_count": 11,
     "metadata": {},
     "output_type": "execute_result"
    }
   ],
   "source": [
    "tau"
   ]
  },
  {
   "cell_type": "code",
   "execution_count": 17,
   "metadata": {},
   "outputs": [],
   "source": [
    "iters = np.ones(len(a))\n",
    "num_iters = 4605170\n",
    "x = np.zeros(len(a))\n",
    "richardson_res = []"
   ]
  },
  {
   "cell_type": "code",
   "execution_count": 20,
   "metadata": {},
   "outputs": [],
   "source": [
    "for i in range(num_iters):\n",
    "    res = A.dot(x) - iters\n",
    "    x = x - tau * res\n",
    "    richardson_res.append(np.linalg.norm(res))"
   ]
  },
  {
   "cell_type": "code",
   "execution_count": 21,
   "metadata": {},
   "outputs": [],
   "source": [
    "import matplotlib.pyplot as plt\n",
    "%matplotlib inline"
   ]
  },
  {
   "cell_type": "code",
   "execution_count": 22,
   "metadata": {},
   "outputs": [
    {
     "data": {
      "image/png": "[encoded data removed]",
      "text/plain": [
       "<Figure size 600x400 with 1 Axes>"
      ]
     },
     "metadata": {
      "needs_background": "light"
     },
     "output_type": "display_data"
    }
   ],
   "source": [
    "plt.figure(dpi=100)\n",
    "plt.plot(richardson_res, color='red')\n",
    "plt.title('Richardson iteration')\n",
    "plt.xlabel('num iter')\n",
    "plt.ylabel('residual')\n",
    "plt.yscale('log')"
   ]
  },
  {
   "cell_type": "markdown",
   "metadata": {},
   "source": [
    "Chebyshev iter"
   ]
  },
  {
   "cell_type": "code",
   "execution_count": null,
   "metadata": {},
   "outputs": [],
   "source": []
  },
  {
   "cell_type": "code",
   "execution_count": 61,
   "metadata": {},
   "outputs": [],
   "source": [
    "num_iters = 4096*2\n",
    "roots = [np.cos((np.pi * (2 * i + 1)) / (2 * num_iters)) for i in range(num_iters)]\n",
    "taus = [(a.max() + a.min() - (a.min() - a.max()) * r) / 2 for r in roots]\n",
    "x = np.zeros(A.shape[1])\n",
    "result = A.dot(x) - np.ones(A.shape[1])\n",
    "Chebyshev_list = [np.linalg.norm(result)]"
   ]
  },
  {
   "cell_type": "code",
   "execution_count": 62,
   "metadata": {},
   "outputs": [
    {
     "data": {
      "text/plain": [
       "8192"
      ]
     },
     "execution_count": 62,
     "metadata": {},
     "output_type": "execute_result"
    }
   ],
   "source": [
    "num_iters"
   ]
  },
  {
   "cell_type": "code",
   "execution_count": 63,
   "metadata": {},
   "outputs": [],
   "source": [
    "def leb_shuffle_2n(n):\n",
    "    if n == 1:\n",
    "        return np.array([0,], dtype=int)\n",
    "    else:\n",
    "        prev = leb_shuffle_2n(n // 2)\n",
    "        ans = np.zeros(n, dtype=int)\n",
    "        ans[::2] = prev\n",
    "        ans[1::2] = n - 1 - prev\n",
    "        return ans\n",
    "\n",
    "good_perm_even = leb_shuffle_2n(num_iters)\n",
    "    \n",
    "#x = x - 1.0/taus[good_perm_even[i] - 1] * r\n",
    "#    r = A.dot(x) - rhs\n",
    " #   res_cheb.append(np.linalg.norm(r))"
   ]
  },
  {
   "cell_type": "code",
   "execution_count": 64,
   "metadata": {},
   "outputs": [
    {
     "data": {
      "text/plain": [
       "array([   0, 8191, 4095, ..., 6826, 2730, 5461])"
      ]
     },
     "execution_count": 64,
     "metadata": {},
     "output_type": "execute_result"
    }
   ],
   "source": [
    "good_perm_even"
   ]
  },
  {
   "cell_type": "code",
   "execution_count": 65,
   "metadata": {},
   "outputs": [],
   "source": [
    "for i in range(8192):\n",
    "    x = x - 1.0/taus[good_perm_even[i] - 1]  * result\n",
    "    result = A.dot(x) -  np.ones(A.shape[1])\n",
    "    Chebyshev_list.append(np.linalg.norm(result))"
   ]
  },
  {
   "cell_type": "code",
   "execution_count": 70,
   "metadata": {},
   "outputs": [
    {
     "data": {
      "image/png": "[encoded data removed]",
      "text/plain": [
       "<Figure size 432x288 with 1 Axes>"
      ]
     },
     "metadata": {
      "needs_background": "light"
     },
     "output_type": "display_data"
    }
   ],
   "source": [
    "\n",
    "plt.semilogy(Chebyshev_list[:4606], label=\"Chebyshev\")\n",
    "plt.semilogy(richardson_res[:4606], label=\"Richardson\")\n",
    "plt.legend(fontsize=20)\n",
    "plt.xlabel(\"Number of iterations, $k$\", fontsize=20)\n",
    "plt.ylabel(\"Residual norm, $\\|Ax_k - b\\|_2$\", fontsize=20)\n",
    "plt.xticks(fontsize=20)\n",
    "_ = plt.yticks(fontsize=20)"
   ]
  },
  {
   "cell_type": "markdown",
   "metadata": {},
   "source": [
    "Conjugate gradient"
   ]
  },
  {
   "cell_type": "code",
   "execution_count": 68,
   "metadata": {},
   "outputs": [],
   "source": [
    "x = scipy.sparse.linalg.cg(A, np.ones(len(a)), x0=np.zeros(len(a)), maxiter=10)"
   ]
  },
  {
   "cell_type": "code",
   "execution_count": 78,
   "metadata": {},
   "outputs": [],
   "source": [
    "res_cg = []\n",
    "for i in range (180):\n",
    "    \n",
    "    x = scipy.sparse.linalg.cg(A, np.ones(len(a)), x0=np.zeros(len(a)), maxiter=i)\n",
    "    result = A.dot(x[0]) - np.ones(A.shape[1])\n",
    "    res_cg.append(np.linalg.norm(result))"
   ]
  },
  {
   "cell_type": "code",
   "execution_count": 79,
   "metadata": {},
   "outputs": [
    {
     "data": {
      "image/png": "[encoded data removed]",
      "text/plain": [
       "<Figure size 432x288 with 1 Axes>"
      ]
     },
     "metadata": {
      "needs_background": "light"
     },
     "output_type": "display_data"
    }
   ],
   "source": [
    "\n",
    "plt.semilogy(res_cg[1:], label=\"Conjugate gradient\")\n",
    "\n",
    "plt.legend(fontsize=20)\n",
    "plt.xlabel(\"Number of iterations, $k$\", fontsize=20)\n",
    "plt.ylabel(\"Residual norm, $\\|Ax_k - b\\|_2$\", fontsize=20)\n",
    "plt.xticks(fontsize=20)\n",
    "_ = plt.yticks(fontsize=20)"
   ]
  },
  {
   "cell_type": "markdown",
   "metadata": {
    "id": "dh0nKsm46hpo"
   },
   "source": [
    "## Problem 2 (65 pts)\n",
    "### On the performance of conjugate gradient method for BTTB matrices.\n",
    "\n",
    "You are given 2D image (QR-code) and convolution operator $T$. The application of $T$ results in smoothing of the image. In exact arithmetic, the proposed $T$ is non-singular. However, it becomes rather ill-conditioned with increasing $N$ in finite precision arithmetic. In this task you need to study how the conjugate gradient method performs in this case."
   ]
  },
  {
   "cell_type": "markdown",
   "metadata": {
    "id": "3gi5DJJz6hps"
   },
   "source": [
    "The original passcode is given below:"
   ]
  },
  {
   "cell_type": "code",
   "execution_count": 3,
   "metadata": {
    "id": "mxPusfbx6hps",
    "outputId": "2fe5ac3f-c23e-4f3d-dc69-b211ec69506b"
   },
   "outputs": [
    {
     "data": {
      "text/plain": [
       "(-0.5, 329.5, 329.5, -0.5)"
      ]
     },
     "execution_count": 3,
     "metadata": {},
     "output_type": "execute_result"
    },
    {
     "data": {
      "image/png": "[encoded data removed]",
      "text/plain": [
       "<Figure size 432x288 with 1 Axes>"
      ]
     },
     "metadata": {
      "needs_background": "light"
     },
     "output_type": "display_data"
    }
   ],
   "source": [
    "import matplotlib.pyplot as plt\n",
    "x = plt.imread('qrcode.gif')[:,:,0]\n",
    "n = x.shape[0]\n",
    "plt.imshow(x, cmap=\"gray\")\n",
    "plt.axis(\"off\")"
   ]
  },
  {
   "cell_type": "markdown",
   "metadata": {
    "id": "uHzqVBAK6hpu"
   },
   "source": [
    "Blurring can be performed by convolving $n\\times n$ QR-code with the following filter:\n",
    "\n",
    "$$T_{i_1j_1,i_2j_2} = T_{i_1-j_1,i_2-j_2} = \\frac{\\alpha}{\\pi}e^{-\\alpha[(i_1-i_2)^2 + (j_1-j_2)^2]}, \\quad i_1,j_1,i_2,j_2 = 1 \\ldots n, \\quad 1 > \\alpha > 0.$$\n",
    "\n",
    "You know from lectures that this convolution can be viewed as a matrix-vector multiplication of some BTTB matrix $T$ of size $n^2 \\times n^2$."
   ]
  },
  {
   "cell_type": "markdown",
   "metadata": {
    "id": "nQSQVkG86hpu"
   },
   "source": [
    "## Task 1 (15 pts) \n",
    "\n",
    "- Write function `T_matvec()` that performs multiplication of $T$ by a given vector $x$ efficiently. Remember about FFT.\n",
    "- Use `scipy.sparse.linalg.LinearOperator` to create an object that has attribute `.dot()` (this object will be further used in the iterative process). Note that `.dot()` input and output must be 1D vectors, so do not forget to use reshape."
   ]
  },
  {
   "cell_type": "code",
   "execution_count": 4,
   "metadata": {},
   "outputs": [],
   "source": [
    "import scipy \n",
    "import numpy as np"
   ]
  },
  {
   "cell_type": "code",
   "execution_count": 5,
   "metadata": {},
   "outputs": [],
   "source": [
    "circulant = np.fft.fft2(scipy.linalg.circulant(1))"
   ]
  },
  {
   "cell_type": "code",
   "execution_count": 6,
   "metadata": {},
   "outputs": [
    {
     "data": {
      "text/plain": [
       "array([[1]])"
      ]
     },
     "execution_count": 6,
     "metadata": {},
     "output_type": "execute_result"
    }
   ],
   "source": [
    "scipy.linalg.circulant(1)"
   ]
  },
  {
   "cell_type": "code",
   "execution_count": 7,
   "metadata": {
    "scrolled": true
   },
   "outputs": [
    {
     "data": {
      "text/plain": [
       "array([[255, 255, 255, ..., 255, 255, 255],\n",
       "       [255, 255, 255, ..., 255, 255, 255],\n",
       "       [255, 255, 255, ..., 255, 255, 255],\n",
       "       ...,\n",
       "       [255, 255, 255, ..., 255, 255, 255],\n",
       "       [255, 255, 255, ..., 255, 255, 255],\n",
       "       [255, 255, 255, ..., 255, 255, 255]], dtype=uint8)"
      ]
     },
     "execution_count": 7,
     "metadata": {},
     "output_type": "execute_result"
    }
   ],
   "source": [
    "x"
   ]
  },
  {
   "cell_type": "code",
   "execution_count": 21,
   "metadata": {},
   "outputs": [
    {
     "data": {
      "text/plain": [
       "330"
      ]
     },
     "execution_count": 21,
     "metadata": {},
     "output_type": "execute_result"
    }
   ],
   "source": [
    "n"
   ]
  },
  {
   "cell_type": "code",
   "execution_count": 18,
   "metadata": {},
   "outputs": [],
   "source": [
    "T=np.exp(-0.01*(np.arange(n)**2))\n",
    "T=np.array([*T,*T[1:][::-1]])\n",
    "T=np.outer(T, T)"
   ]
  },
  {
   "cell_type": "code",
   "execution_count": 19,
   "metadata": {},
   "outputs": [
    {
     "data": {
      "text/plain": [
       "(659, 659)"
      ]
     },
     "execution_count": 19,
     "metadata": {},
     "output_type": "execute_result"
    }
   ],
   "source": [
    "T.shape"
   ]
  },
  {
   "cell_type": "code",
   "execution_count": 8,
   "metadata": {
    "id": "SKiL6Iky6hpv"
   },
   "outputs": [],
   "source": [
    "def T_matvec(x, alpha):\n",
    "    #pass\n",
    "    x = x.reshape(int(np.sqrt(x.shape[0])),int(np.sqrt(x.shape[0])))\n",
    "    n = x.shape[0]\n",
    "    #x_cir = np.zeros((2*n-1,2*n-1))\\\n",
    "\n",
    "    T=np.exp(-alpha*(np.arange(n)**2))\n",
    "    T=np.array([*T,*T[1:][::-1]])\n",
    "    T=np.outer(T, T)\n",
    "    padded_m = np.fft.fft2(np.pad(x, (0,n-1)))\n",
    "    y = np.real(np.fft.ifft2( np.fft.fft2(T) * padded_m  ))\n",
    "                \n",
    "    return y[:n,:n].reshape(-1)\n",
    "    #return y.reshape(-1)\n",
    "\n",
    "\n",
    "# T = spla.LinearOperator((n**2, n**2), matvec = lambda x : T_matvec(x, alpha))\n",
    "# your code is here"
   ]
  },
  {
   "cell_type": "code",
   "execution_count": 9,
   "metadata": {},
   "outputs": [],
   "source": [
    "from scipy.sparse import linalg\n",
    "alpha = 1\n",
    "LA = linalg.LinearOperator((n**2,n**2), matvec = lambda x : T_matvec(x, alpha))"
   ]
  },
  {
   "cell_type": "code",
   "execution_count": 10,
   "metadata": {},
   "outputs": [
    {
     "data": {
      "text/plain": [
       "<108900x108900 _CustomLinearOperator with dtype=float64>"
      ]
     },
     "execution_count": 10,
     "metadata": {},
     "output_type": "execute_result"
    }
   ],
   "source": [
    "LA"
   ]
  },
  {
   "cell_type": "markdown",
   "metadata": {
    "id": "Vpj3Llkc6hpv"
   },
   "source": [
    "**Remark.** The obtained matrix $T$ is positive definite (at least in the exact arithmetic), hence the conjugate gradient method can be applied to solve with $T$.\n",
    "\n",
    "**Bonus question: Prove the remark above.**"
   ]
  },
  {
   "cell_type": "markdown",
   "metadata": {
    "id": "fyoFYerG6hpw"
   },
   "source": [
    "## Task 2 (10 pts) \n",
    "- For $\\alpha \\in \\{ 0.1, 0.01,0.001\\}$ compute $y=Tx$ and deconvolve $x$ using `scipy.sparse.linalg.cg` with $tol \\in \\{10^{-3}, 10^{-4}, 10^{-5}, 10^{-6}, 10^{-7}\\}$. For each pair $\\alpha$, $tol$ write out `num_iters` and relative error $e = \\frac{\\|x - x^*\\|_2}{\\|x\\|_2}$ .\n",
    "- Comment on the results: \n",
    "\n",
    "    1) why the relative error does not converge to zero? \n",
    "    \n",
    "    2) why the relative error converges to different values for different $\\alpha$?"
   ]
  },
  {
   "cell_type": "code",
   "execution_count": 11,
   "metadata": {},
   "outputs": [],
   "source": [
    "alpha_range = [.1, .01, .001]\n",
    "tolerance_range = [1e-3,1e-4,1e-5,1e-6,1e-7]\n",
    "def solve_sparse(A, b,tol):\n",
    "        num_iters = 0\n",
    "        def callback(xk):\n",
    "            nonlocal num_iters\n",
    "            num_iters+=1\n",
    "\n",
    "        x,status=scipy.sparse.linalg.cg(A, b,tol=tol, callback=callback,maxiter=1000)\n",
    "        return x,status,num_iters\n",
    "\n",
    "\n",
    "#linalg.cg(A, b,tol=tol, callback=callback, maxiter = maxiter)"
   ]
  },
  {
   "cell_type": "code",
   "execution_count": 12,
   "metadata": {},
   "outputs": [
    {
     "ename": "NameError",
     "evalue": "name 'num_iters' is not defined",
     "output_type": "error",
     "traceback": [
      "\u001b[1;31m---------------------------------------------------------------------------\u001b[0m",
      "\u001b[1;31mNameError\u001b[0m                                 Traceback (most recent call last)",
      "\u001b[1;32m<ipython-input-12-774e5bf8adda>\u001b[0m in \u001b[0;36m<module>\u001b[1;34m\u001b[0m\n\u001b[0;32m     10\u001b[0m         \u001b[0mnorm_list\u001b[0m\u001b[1;33m.\u001b[0m\u001b[0mappend\u001b[0m\u001b[1;33m(\u001b[0m\u001b[0mnorm\u001b[0m\u001b[1;33m)\u001b[0m\u001b[1;33m\u001b[0m\u001b[1;33m\u001b[0m\u001b[0m\n\u001b[0;32m     11\u001b[0m         \u001b[0mstatus_list\u001b[0m\u001b[1;33m.\u001b[0m\u001b[0mappend\u001b[0m\u001b[1;33m(\u001b[0m\u001b[0mstatus\u001b[0m\u001b[1;33m)\u001b[0m\u001b[1;33m\u001b[0m\u001b[1;33m\u001b[0m\u001b[0m\n\u001b[1;32m---> 12\u001b[1;33m         \u001b[0miter_list\u001b[0m\u001b[1;33m.\u001b[0m\u001b[0mappend\u001b[0m\u001b[1;33m(\u001b[0m\u001b[0mnum_iters\u001b[0m\u001b[1;33m)\u001b[0m\u001b[1;33m\u001b[0m\u001b[1;33m\u001b[0m\u001b[0m\n\u001b[0m",
      "\u001b[1;31mNameError\u001b[0m: name 'num_iters' is not defined"
     ]
    }
   ],
   "source": [
    "norm_list = []\n",
    "status_list = []\n",
    "iter_list = []\n",
    "for a in alpha_range:\n",
    "    y = T_matvec(x.reshape(-1),a)\n",
    "    LA = linalg.LinearOperator((n**2,n**2), matvec = lambda x : T_matvec(x, a))\n",
    "    for t in tolerance_range:\n",
    "        x1,_,status = solve_sparse(LA, y,t)\n",
    "        norm = np.linalg.norm(x1-x.reshape(-1))/np.linalg.norm(x.reshape(-1))\n",
    "        norm_list.append(norm)\n",
    "        status_list.append(status)\n",
    "        iter_list.append(num_iters)"
   ]
  },
  {
   "cell_type": "code",
   "execution_count": 195,
   "metadata": {},
   "outputs": [
    {
     "data": {
      "text/plain": [
       "[1, 1, 1, 1, 1, 1, 1, 1]"
      ]
     },
     "execution_count": 195,
     "metadata": {},
     "output_type": "execute_result"
    }
   ],
   "source": [
    "iter_list"
   ]
  },
  {
   "cell_type": "code",
   "execution_count": 156,
   "metadata": {},
   "outputs": [
    {
     "data": {
      "text/plain": [
       "[1, 1, 1, 1, 1, 1, 1, 1, 1, 1, 1, 1, 1, 1, 1]"
      ]
     },
     "execution_count": 156,
     "metadata": {},
     "output_type": "execute_result"
    }
   ],
   "source": [
    "iter_list"
   ]
  },
  {
   "cell_type": "code",
   "execution_count": 137,
   "metadata": {},
   "outputs": [
    {
     "data": {
      "text/plain": [
       "[[array([255., 255., 255., ..., 255., 255., 255.]),\n",
       "  0,\n",
       "  4.91039813570624e-15,\n",
       "  1],\n",
       " [array([255., 255., 255., ..., 255., 255., 255.]),\n",
       "  0,\n",
       "  4.91039813570624e-15,\n",
       "  1],\n",
       " [array([255., 255., 255., ..., 255., 255., 255.]),\n",
       "  0,\n",
       "  4.91039813570624e-15,\n",
       "  1],\n",
       " [array([255., 255., 255., ..., 255., 255., 255.]),\n",
       "  0,\n",
       "  4.91039813570624e-15,\n",
       "  1],\n",
       " [array([255., 255., 255., ..., 255., 255., 255.]),\n",
       "  0,\n",
       "  4.91039813570624e-15,\n",
       "  1],\n",
       " [array([255., 255., 255., ..., 255., 255., 255.]),\n",
       "  0,\n",
       "  3.327701178407768e-14,\n",
       "  1],\n",
       " [array([255., 255., 255., ..., 255., 255., 255.]),\n",
       "  0,\n",
       "  3.327701178407768e-14,\n",
       "  1],\n",
       " [array([255., 255., 255., ..., 255., 255., 255.]),\n",
       "  0,\n",
       "  3.327701178407768e-14,\n",
       "  1],\n",
       " [array([255., 255., 255., ..., 255., 255., 255.]),\n",
       "  0,\n",
       "  3.327701178407768e-14,\n",
       "  1],\n",
       " [array([255., 255., 255., ..., 255., 255., 255.]),\n",
       "  0,\n",
       "  3.327701178407768e-14,\n",
       "  1],\n",
       " [array([255., 255., 255., ..., 255., 255., 255.]),\n",
       "  0,\n",
       "  2.715300788933469e-14,\n",
       "  1],\n",
       " [array([255., 255., 255., ..., 255., 255., 255.]),\n",
       "  0,\n",
       "  2.715300788933469e-14,\n",
       "  1],\n",
       " [array([255., 255., 255., ..., 255., 255., 255.]),\n",
       "  0,\n",
       "  2.715300788933469e-14,\n",
       "  1],\n",
       " [array([255., 255., 255., ..., 255., 255., 255.]),\n",
       "  0,\n",
       "  2.715300788933469e-14,\n",
       "  1],\n",
       " [array([255., 255., 255., ..., 255., 255., 255.]),\n",
       "  0,\n",
       "  2.715300788933469e-14,\n",
       "  1]]"
      ]
     },
     "execution_count": 137,
     "metadata": {},
     "output_type": "execute_result"
    }
   ],
   "source": [
    "plt.plot(result[0])\n",
    "plt.semilogy(richardson_res[:4606])\n",
    "plt.legend(fontsize=20)\n",
    "plt.xlabel(\"Number of iterations, $k$\", fontsize=20)\n",
    "plt.ylabel(\"Residual norm, $\\|Ax_k - b\\|_2$\", fontsize=20)\n",
    "plt.xticks(fontsize=20)"
   ]
  },
  {
   "cell_type": "code",
   "execution_count": null,
   "metadata": {
    "id": "1ZziAoPv6hpw"
   },
   "outputs": [],
   "source": [
    "# your code is here"
   ]
  },
  {
   "cell_type": "markdown",
   "metadata": {
    "id": "lJ4XOLfw6hpx"
   },
   "source": [
    "In all further tasks fix $\\alpha = 0.01$. Compute $y = Tx$, and add vector with Gaussian noise from $\\mathcal{N}(0, 1)$ to $y$ and get the final right-hand side $\\hat{y}$.\n",
    "\n",
    "## Task 3 (10 pts)\n",
    "- Try to deconvolve $\\hat{y}$ with matrix $T$ using $tol=10^{-5}$ in CG. Explain, why CG does not converge.\n",
    "- Suggest how CG can still be used to recover $x$. What are drawbacks of the suggested approach?"
   ]
  },
  {
   "cell_type": "code",
   "execution_count": 13,
   "metadata": {},
   "outputs": [],
   "source": [
    "def solve_sparse(A, b,tol,iterations):\n",
    "        num_iters = 0\n",
    "        def callback(xk):\n",
    "            nonlocal num_iters\n",
    "            num_iters+=1\n",
    "\n",
    "        x,status=scipy.sparse.linalg.cg(A, b,tol=tol, callback=callback,maxiter=iterations)\n",
    "        return x,status,num_iters\n"
   ]
  },
  {
   "cell_type": "code",
   "execution_count": 14,
   "metadata": {},
   "outputs": [],
   "source": [
    "from scipy.sparse import linalg\n",
    "alpha = .01\n",
    "LA = linalg.LinearOperator((n**2,n**2), matvec = lambda x : T_matvec(x, alpha))\n",
    "y = T_matvec(x.reshape(-1),alpha)\n",
    "yhat = y+np.random.standard_normal(y.shape)\n"
   ]
  },
  {
   "cell_type": "code",
   "execution_count": 16,
   "metadata": {},
   "outputs": [
    {
     "data": {
      "text/plain": [
       "(array([253.18966154, 254.92765024, 256.03771716, ..., 256.91232101,\n",
       "        258.56768521, 259.97978075]),\n",
       " 0,\n",
       " 268)"
      ]
     },
     "execution_count": 16,
     "metadata": {},
     "output_type": "execute_result"
    }
   ],
   "source": [
    "x2,_,status1 = solve_sparse(LA, y, 10**-5, 1000)\n",
    "x2,_,status1"
   ]
  },
  {
   "cell_type": "code",
   "execution_count": 17,
   "metadata": {},
   "outputs": [
    {
     "data": {
      "text/plain": [
       "1000"
      ]
     },
     "execution_count": 17,
     "metadata": {},
     "output_type": "execute_result"
    }
   ],
   "source": [
    "x3,_,status3 = solve_sparse(LA, yhat, 10**-5, 1000)\n",
    "status3"
   ]
  },
  {
   "cell_type": "markdown",
   "metadata": {},
   "source": [
    "The main idea why conjigate gradient method doesn't converge in case of yhat because we have ill-conditioned key. We changed input values and our system became ill-conditioned. That's obvious"
   ]
  },
  {
   "cell_type": "code",
   "execution_count": null,
   "metadata": {
    "id": "JzT0Wfzl6hpx"
   },
   "outputs": [],
   "source": [
    "# your code is here"
   ]
  },
  {
   "cell_type": "markdown",
   "metadata": {
    "id": "ez3m0Y-n6hpy"
   },
   "source": [
    "## Task 4 (10 pts)\n",
    "\n",
    "- Implement Tikhonov regularization, i.e. deconvolve $\\hat{y}$ with the perturbed matrix $T_{\\lambda} = T + \\lambda^2I$ instead of $T$. Modify `T_matvec()` according to the template below.\n",
    "- Perform computations for all $\\lambda \\in \\{10, 1, 0.1\\}$ and $tol \\in \\{10^{-3}, 10^{-4}, 10^{-5},10^{-6}, 10^{-7} \\}$. For each pair $(\\lambda, tol)$ write out `num_iters` and relative error $e = \\frac{\\|x - x^*\\|_2}{\\|x\\|_2}$. Comment on the results: \n",
    "    - Compare robustness of the convergence with task 2. What the observed results indicate?"
   ]
  },
  {
   "cell_type": "code",
   "execution_count": null,
   "metadata": {},
   "outputs": [],
   "source": [
    "def T_matvec(x, alpha):\n",
    "    #pass\n",
    "    x = x.reshape(int(np.sqrt(x.shape[0])),int(np.sqrt(x.shape[0])))\n",
    "    n = x.shape[0]\n",
    "    #x_cir = np.zeros((2*n-1,2*n-1))\\\n",
    "\n",
    "    T=np.exp(-alpha*(np.arange(n)**2))\n",
    "    T=np.array([*T,*T[1:][::-1]])\n",
    "    T=np.outer(T, T)\n",
    "    T[0,0] += lmbda**2\n",
    "    padded_m = np.fft.fft2(np.pad(x, (0,n-1)))\n",
    "    y = np.real(np.fft.ifft2( np.fft.fft2(T) * padded_m  ))\n",
    "                \n",
    "    return y[:n,:n].reshape(-1)"
   ]
  },
  {
   "cell_type": "code",
   "execution_count": null,
   "metadata": {
    "id": "IIs9QI7R6hpy"
   },
   "outputs": [],
   "source": [
    "def T_lmbda_matvec(x, aplha, lmbda):\n",
    "    pass\n",
    "\n",
    "# your code is here"
   ]
  },
  {
   "cell_type": "markdown",
   "metadata": {
    "id": "ut0QG1AW6hpy"
   },
   "source": [
    "## Task 5 (20 pts)\n",
    "\n",
    "- Implement BCCB preconditioner for $T_{\\lambda}$ based on Strang preconditioner for Toeplitz matrix (hint: build circulants using first columns of Toeplitz matrices on both levels). You know from lectures that circulants can be explicitly inverted using convolution theorem. Implement the corresponding matvec according to the template provided below.\n",
    "- Check speedup in iterations and runtime that can be gained from the preconditioning for $\\alpha = 0.01$, $\\lambda = 1$ compared with Task 4. Explain results."
   ]
  },
  {
   "cell_type": "code",
   "execution_count": null,
   "metadata": {
    "id": "DiJcm6XQ6hpz"
   },
   "outputs": [],
   "source": [
    "def C_inv_matvec(x, alpha, lmbda):\n",
    "    pass\n",
    "\n",
    "# your code is here"
   ]
  }
 ],
 "metadata": {
  "kernelspec": {
   "display_name": "Python 3",
   "language": "python",
   "name": "python3"
  },
  "language_info": {
   "codemirror_mode": {
    "name": "ipython",
    "version": 3
   },
   "file_extension": ".py",
   "mimetype": "text/x-python",
   "name": "python",
   "nbconvert_exporter": "python",
   "pygments_lexer": "ipython3",
   "version": "3.8.8"
  },
  "toc": {
   "base_numbering": 1,
   "nav_menu": {},
   "number_sections": true,
   "sideBar": true,
   "skip_h1_title": false,
   "title_cell": "Table of Contents",
   "title_sidebar": "Contents",
   "toc_cell": false,
   "toc_position": {},
   "toc_section_display": true,
   "toc_window_display": false
  }
 },
 "nbformat": 4,
 "nbformat_minor": 4
}
