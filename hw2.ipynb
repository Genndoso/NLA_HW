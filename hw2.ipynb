{
 "cells": [
  {
   "cell_type": "markdown",
   "metadata": {
    "id": "t9v1vX4-OGIT"
   },
   "source": [
    "# Problem set 2 (45 + 50 + 33 + 15 = 143 pts)"
   ]
  },
  {
   "cell_type": "markdown",
   "metadata": {
    "id": "FOMNJ4TcOGIV"
   },
   "source": [
    "## Problem 1 (LU decomposition) 45 pts\n"
   ]
  },
  {
   "cell_type": "markdown",
   "metadata": {
    "id": "pYHDl6ppOGIV"
   },
   "source": [
    "### 1. LU  for band matrices and Cholesky decomposition (13 pts)\n",
    "\n",
    "The complexity to find an LU decomposition of a dense $n\\times n$ matrix is $\\mathcal{O}(n^3)$.\n",
    "Significant reduction in complexity can be achieved if the matrix has a certain structure, e.g. it is sparse. \n",
    "In the following task we consider an important example of $LU$ for a special type of matrices –– band matrices with top left entry equal to 1 and the bandwidth $m$ equal to 3 or 5 which called tridiagonal and pentadiagonal respectively. The bands may be ```[1, 2, 1]``` and ```[1, 1, 2, 1, 1]``` respectively\n",
    "\n",
    "- (4 pts) Write a function ```band_lu(diag_broadcast, n)``` which computes LU decomposition for tridiagonal or pentadiagonal matrix with top left entry equal to 1 with given diagonal bands. \n",
    "For example, input parametres ```(diag_broadcast = [1,2,1], n = 4)``` mean that we need to find LU decomposition for the triangular matrix of the form:\n",
    "\n",
    "$$A = \\begin{pmatrix}\n",
    "1 & 1 & 0 & 0\\\\\n",
    "1 & 2 & 1 & 0 \\\\\n",
    "0 & 1 & 2 & 1 \\\\\n",
    "0 & 0 & 1 & 2 \\\\\n",
    "\\end{pmatrix}.$$\n",
    "\n",
    "Provide the extensive testing of the implemented function that will works correctly for large $n$,  e.g. $n=100$.\n",
    "As an output it is considered to make ```L``` and ```U``` - 2D arrays representing diagonals in factors $L$ (```L[0]``` keeps first lower diagonal, ```L[1]``` keeps second lower, ...), and $U$ (```U[:,0]``` keeps main diagonal, ```U[:,1]``` keeps first upper, ...).\n",
    "\n",
    "- (2 pts) Compare execution time of the band LU decomposition using standard function from ```scipy```, i.e. which takes the whole matrix and does not know about its special structure, and band decomposition of yours implementation. Comment on the results.\n",
    "\n",
    "- (7 pts) Write a function ```cholesky(n)``` for computing Cholesky decomposition. It should take the the single argument - the matrix that will be factorized and return the single output - lower-triangular factor $L$. Think about the efficiency of your implementation and if necessary update it to achieve the best performance (eliminate Python loops, where it is possible and so on). Explicitly describe the difference with LU decomposition that reduces the complexity from $2n^3/3$ for LU to $n^3/3$ for Cholesky. \n",
    "Test the implemented function on the Pascal matrix of given size $n$ for $n = 5, 10, 50$. \n",
    "Pascal matrix is square matrix of the following form (here for $n=4$)\n",
    "$$P = \\begin{pmatrix}\n",
    "1 & 1 & 1 & 1\\\\\n",
    "1 & 2 & 3 & 4 \\\\\n",
    "1 & 3 & 6 & 10 \\\\\n",
    "1 & 4 & 10 & 20 \\\\\n",
    "\\end{pmatrix}.$$\n",
    "\n",
    "    [Here](https://en.wikipedia.org/wiki/Pascal_matrix) you can find more details about such matrices and analytical form for factor $L$ from Cholesky decomposition. Compare the result of your implementation with analytical expression in terms of some matrix norm of difference.  "
   ]
  },
  {
   "cell_type": "markdown",
   "metadata": {},
   "source": [
    "https://www.webpages.uidaho.edu/~barannyk/Teaching/LU_factorization_tridiagonal.pdf\n",
    "There is a proof of how the L and U matrices look like while original matrix is tridiagonal. For pentadiagonal the form will look similar"
   ]
  },
  {
   "cell_type": "markdown",
   "metadata": {},
   "source": [
    "1.1"
   ]
  },
  {
   "cell_type": "code",
   "execution_count": 1,
   "metadata": {
    "id": "BvY7icWBOGIW",
    "tags": []
   },
   "outputs": [],
   "source": [
    "from scipy.sparse import diags # can be used with broadcasting of scalars if desired dimensions are large\n",
    "import numpy as np\n",
    "\n",
    "# INPUT : diag_broadcast - list of diagonals value to broadcast,length equal to 3 or 5; n - integer, band matrix shape.\n",
    "# OUTPUT : L - 2D np.ndarray, L.shape[0] depends on bandwidth, L.shape[1] = n-1, do not store main diagonal, where all ones;                  add zeros to the right side of rows to handle with changing length of diagonals.\n",
    "#          U - 2D np.ndarray, U.shape[0] = n, U.shape[1] depends on bandwidth;\n",
    "#              add zeros to the bottom of columns to handle with changing length of diagonals.\n",
    "def band_lu (diag_broadcast, n):\n",
    "    if len(diag_broadcast) == 3:\n",
    "        L = np.zeros(n-1)\n",
    "        U = np.zeros((n,2))\n",
    "        l,m,u = diag_broadcast\n",
    "        U[0,0] = 1 \n",
    "        U[0,1] = u\n",
    "        for i in range (1,n):\n",
    "            if U[i-1,0] == 0:\n",
    "                raise Exception('Zero division')\n",
    "            else :\n",
    "                L[i-1] = l/U[i-1,0]\n",
    "                U[i,0] =  m - u*L[i-1]\n",
    "                U[i,1] = u\n",
    "      \n",
    "    if len(diag_broadcast) == 5:\n",
    "        U = np.zeros((n, 3))\n",
    "        L = np.zeros((n-1, 2), dtype=float)\n",
    "        U[0, 0] = 1\n",
    "        \n",
    "        a,b,c,d,e = diag_broadcast\n",
    "        L[0, 0] = b\n",
    "        \n",
    "        U[0, 1] = d\n",
    "        U[0, 2] = e\n",
    "        U[1, 0] = c  - U[0, 1]*L[0, 0]\n",
    "        for i in range(1, n-1):\n",
    "            \n",
    "            if U[i,0] == 0:\n",
    "                raise Exception('Zero division')\n",
    "            U[i, 2] = e\n",
    "            L[i-1,1] = a/U[i-1, 0]\n",
    "            U[i, 1] = d - e*L[i-1, 0]\n",
    "            L[i, 0] = (b - L[i-1, 1]*U[i-1, 1])/U[i, 0]\n",
    "            U[i+1, 0] = c- e * L[i-1, 1] - L[i, 0]*U[i, 1]\n",
    "\n",
    "    return L, U\n",
    "\n",
    "    \n",
    "    \n",
    "#def cholesky(A):\n",
    "    # enter your code here\n",
    "   # raise NotImplementedError()"
   ]
  },
  {
   "cell_type": "code",
   "execution_count": 2,
   "metadata": {},
   "outputs": [
    {
     "name": "stdout",
     "output_type": "stream",
     "text": [
      "  (0, 1)\t10.0\n",
      "  (0, 0)\t1.0\n",
      "  (1, 2)\t10.0\n",
      "  (1, 1)\t8.0\n",
      "  (1, 0)\t20.0\n",
      "  (2, 3)\t10.0\n",
      "  (2, 2)\t7.999999999999999\n",
      "  (2, 1)\t20.0\n",
      "  (3, 4)\t10.0\n",
      "  (3, 3)\t8.0\n",
      "  (3, 2)\t20.0\n",
      "  (4, 5)\t10.0\n",
      "  (4, 4)\t8.0\n",
      "  (4, 3)\t20.0\n",
      "  (5, 6)\t10.0\n",
      "  (5, 5)\t8.0\n",
      "  (5, 4)\t20.0\n",
      "  (6, 7)\t10.0\n",
      "  (6, 6)\t8.0\n",
      "  (6, 5)\t20.0\n",
      "  (7, 8)\t10.0\n",
      "  (7, 7)\t8.0\n",
      "  (7, 6)\t20.0\n",
      "  (8, 9)\t10.0\n",
      "  (8, 8)\t8.0\n",
      "  :\t:\n",
      "  (91, 91)\t8.0\n",
      "  (91, 90)\t20.0\n",
      "  (92, 93)\t10.0\n",
      "  (92, 92)\t8.0\n",
      "  (92, 91)\t20.0\n",
      "  (93, 94)\t10.0\n",
      "  (93, 93)\t8.0\n",
      "  (93, 92)\t20.0\n",
      "  (94, 95)\t10.0\n",
      "  (94, 94)\t8.0\n",
      "  (94, 93)\t20.0\n",
      "  (95, 96)\t10.0\n",
      "  (95, 95)\t8.0\n",
      "  (95, 94)\t20.0\n",
      "  (96, 97)\t10.0\n",
      "  (96, 96)\t8.0\n",
      "  (96, 95)\t20.0\n",
      "  (97, 98)\t10.0\n",
      "  (97, 97)\t8.0\n",
      "  (97, 96)\t20.0\n",
      "  (98, 99)\t10.0\n",
      "  (98, 98)\t8.0\n",
      "  (98, 97)\t20.0\n",
      "  (99, 99)\t7.999999999999986\n",
      "  (99, 98)\t20.0\n",
      "  (0, 2)\t2.0\n",
      "  (0, 1)\t1.0\n",
      "  (0, 0)\t1.0\n",
      "  (1, 3)\t2.0\n",
      "  (1, 2)\t1.0\n",
      "  (1, 1)\t2.0\n",
      "  (1, 0)\t30.0\n",
      "  (2, 4)\t2.0\n",
      "  (2, 3)\t1.0\n",
      "  (2, 2)\t2.0\n",
      "  (2, 1)\t30.0\n",
      "  (2, 0)\t40.0\n",
      "  (3, 5)\t2.0\n",
      "  (3, 4)\t1.0\n",
      "  (3, 3)\t2.0000000000000004\n",
      "  (3, 2)\t30.0\n",
      "  (3, 1)\t40.0\n",
      "  (4, 6)\t2.0\n",
      "  (4, 5)\t1.0\n",
      "  (4, 4)\t2.0\n",
      "  (4, 3)\t30.0\n",
      "  (4, 2)\t40.0\n",
      "  (5, 7)\t2.0\n",
      "  (5, 6)\t1.0\n",
      "  (5, 5)\t2.0\n",
      "  :\t:\n",
      "  (94, 94)\t2.0\n",
      "  (94, 93)\t30.0\n",
      "  (94, 92)\t40.0\n",
      "  (95, 97)\t2.0\n",
      "  (95, 96)\t1.0\n",
      "  (95, 95)\t2.0\n",
      "  (95, 94)\t30.000000000000004\n",
      "  (95, 93)\t40.0\n",
      "  (96, 98)\t2.0\n",
      "  (96, 97)\t1.0\n",
      "  (96, 96)\t2.0\n",
      "  (96, 95)\t30.0\n",
      "  (96, 94)\t40.0\n",
      "  (97, 99)\t2.0\n",
      "  (97, 98)\t1.0\n",
      "  (97, 97)\t2.0\n",
      "  (97, 96)\t30.0\n",
      "  (97, 95)\t40.0\n",
      "  (98, 99)\t1.0\n",
      "  (98, 98)\t2.0\n",
      "  (98, 97)\t30.0\n",
      "  (98, 96)\t40.0\n",
      "  (99, 99)\t2.0\n",
      "  (99, 98)\t30.000000000000004\n",
      "  (99, 97)\t40.0\n"
     ]
    }
   ],
   "source": [
    "n = 100\n",
    "L,U = band_lu([20,8,10],n)\n",
    "L3 = diags([1]*n, 0) + diags(L, -1)\n",
    "U3 = diags(U[:,0],0) + diags(U[:-1,1],1)\n",
    "print(L3 @ U3)\n",
    "\n",
    "L,U = band_lu([40,30,2,1,2],n)\n",
    "L5 = diags([1]*n, 0) + diags(L[:,0], -1) + diags(L[:-1,1], -2)\n",
    "U5 = diags(U[:,0],0) +diags(U[:-1,1],1) + diags(U[:-2,2],2)\n",
    "print(L5 @ U5)"
   ]
  },
  {
   "cell_type": "code",
   "execution_count": 3,
   "metadata": {},
   "outputs": [],
   "source": [
    "from scipy.linalg import lu\n",
    "def sci_lu(diag_broadcast, n):\n",
    "    if len(diag_broadcast) == 3:\n",
    "        A = diags(diag_broadcast, [-1, 0, 1], shape=(n, n)).toarray()\n",
    "        \n",
    "    else: \n",
    "        A = diags(diag_broadcast, [-2,-1, 0, 1,2], shape=(n, n)).toarray()      \n",
    "\n",
    "    return lu(A)"
   ]
  },
  {
   "cell_type": "markdown",
   "metadata": {},
   "source": [
    "1.2"
   ]
  },
  {
   "cell_type": "code",
   "execution_count": 4,
   "metadata": {},
   "outputs": [
    {
     "name": "stdout",
     "output_type": "stream",
     "text": [
      "62.7 ms ± 2.32 ms per loop (mean ± std. dev. of 10 runs, 10 loops each)\n",
      "11.2 ms ± 1.72 ms per loop (mean ± std. dev. of 10 runs, 10 loops each)\n"
     ]
    }
   ],
   "source": [
    "import timeit\n",
    "n=1000\n",
    "diag = [8,10,5,6,20]\n",
    "\n",
    "\n",
    "\n",
    "%timeit -n10 -r10 sci_lu(diag,n)\n",
    "%timeit -n10 -r10 band_lu(diag,n)"
   ]
  },
  {
   "cell_type": "markdown",
   "metadata": {},
   "source": [
    "Our band lu is almost 6 times faster than scipy lu because we eliminate some calculations. It is obvious that scipy LU doesn't consider specifit structure of a matrix."
   ]
  },
  {
   "cell_type": "markdown",
   "metadata": {},
   "source": [
    "1.3"
   ]
  },
  {
   "cell_type": "code",
   "execution_count": 251,
   "metadata": {},
   "outputs": [
    {
     "name": "stdout",
     "output_type": "stream",
     "text": [
      "19.3 ms ± 1.29 ms per loop (mean ± std. dev. of 7 runs, 100 loops each)\n",
      "446 µs ± 33 µs per loop (mean ± std. dev. of 7 runs, 100 loops each)\n",
      "134 µs ± 4.43 µs per loop (mean ± std. dev. of 7 runs, 100 loops each)\n"
     ]
    }
   ],
   "source": [
    "from scipy.linalg import pascal\n",
    "import math\n",
    "def cholesky(matrix):\n",
    "    n = matrix.shape[0]\n",
    "    L = [[0 for x in range(n)]\n",
    "                for y in range(n)]\n",
    " \n",
    "    for i in range(n):\n",
    "        for j in range(i + 1):\n",
    "            sum1 = 0\n",
    "            if (j == i):\n",
    "                for k in range(j):\n",
    "                    sum1 += pow(L[j][k], 2)\n",
    "                L[j][j] = int(math.sqrt(matrix[j][j] - sum1))\n",
    "            \n",
    "            else:\n",
    "                for k in range(j):\n",
    "                    sum1 += (L[i][k] *L[j][k])\n",
    "                if(L[j][j] > 0):\n",
    "                    L[i][j] = int((matrix[i][j] - sum1) / L[j][j])\n",
    "    return L\n",
    "    \n",
    "\n",
    "%timeit -n100  cholesky(pascal(50))\n",
    "%timeit -n100  cholesky(pascal(10))\n",
    "%timeit -n100  cholesky(pascal(5))"
   ]
  },
  {
   "cell_type": "code",
   "execution_count": 253,
   "metadata": {},
   "outputs": [
    {
     "name": "stdout",
     "output_type": "stream",
     "text": [
      "134 µs ± 29.1 µs per loop (mean ± std. dev. of 7 runs, 100 loops each)\n",
      "36.4 µs ± 14 µs per loop (mean ± std. dev. of 7 runs, 100 loops each)\n"
     ]
    }
   ],
   "source": [
    "#%timeit -n100 scipy.linalg.cholesky(pascal(50))\n",
    "%timeit -n100  scipy.linalg.cholesky(pascal(10))\n",
    "%timeit -n100  scipy.linalg.cholesky(pascal(5))"
   ]
  },
  {
   "cell_type": "markdown",
   "metadata": {
    "id": "_iM6NwHQOGId"
   },
   "source": [
    "### 2. Stability of LU (8 pts)\n",
    "\n",
    "* (4 pts) Show, that for these  matrices $A$ and $B$ LU decomposition fails. Why does it happen?\n",
    "\n",
    "\n",
    "\n",
    "$\n",
    "A = \\begin{pmatrix}\n",
    "0 & 1 \\\\\n",
    "2 & 3\n",
    "\\end{pmatrix}.$ \n",
    "\n",
    "$B = \\begin{pmatrix}\n",
    "1 & 1 & 0\\\\\n",
    "1 & 1 & 2 \\\\\n",
    "1 & 2 & 1\n",
    "\\end{pmatrix}.$ \n",
    "\n",
    "* (4 pts) In the LU decomposition, a pivot position is a position of the element that identifies the row and column that will be eliminated in the current step. For example, first pivot in LU is usually the left top element. What value of $c$ leads to zero in the second pivot position? What $c$ produces zero in the third pivot position? What modification of LU should we use in order to address the possible zeros in pivot position?\n",
    "\n",
    "$A = \\begin{pmatrix}\n",
    "1 & c & 0\\\\\n",
    "2 & 4 & 1 \\\\\n",
    "3 & 5 & 1\n",
    "\\end{pmatrix}.$ "
   ]
  },
  {
   "cell_type": "code",
   "execution_count": 6,
   "metadata": {
    "id": "CmkB9hxwOGId"
   },
   "outputs": [],
   "source": [
    "# Your solution is here"
   ]
  },
  {
   "cell_type": "markdown",
   "metadata": {},
   "source": [
    "2.1."
   ]
  },
  {
   "cell_type": "markdown",
   "metadata": {},
   "source": [
    "LU decomposition is true for strictly regular matrices. Strictly regular matrices is matrices which leading principal minors (i.e, submatrices in the first k rows and k columns) are non-singular. In the first case (matrix A) there are zero on the [0,0] element of the matrix. Thus, leading minor of element [1,1] will be zero. Thus, LU decomposition will fail\n",
    "\n",
    "$M_{1,1}=0$\n"
   ]
  },
  {
   "cell_type": "markdown",
   "metadata": {},
   "source": [
    "For matrix B leading minor of the element [2,2] will be zero\n",
    "$B = \\begin{pmatrix}\n",
    "1 & 1 & 0\\\\\n",
    "1 & 1 & 2 \\\\\n",
    "1 & 2 & 1\n",
    "\\end{pmatrix}.$ \n",
    "$M_{2,2} =\\begin{vmatrix}1 & 1 \\\\\n",
    "1 & 1 \\end{vmatrix}. = 1 \\cdot 1-1 \\cdot 1=0\n",
    "$"
   ]
  },
  {
   "cell_type": "markdown",
   "metadata": {},
   "source": [
    "2.2"
   ]
  },
  {
   "cell_type": "markdown",
   "metadata": {},
   "source": [
    "$$A = \\begin{pmatrix}\n",
    "1 & c & 0\\\\\n",
    "2 & 4 & 1 \\\\\n",
    "3 & 5 & 1\n",
    "\\end{pmatrix}.$$\n",
    "Substract first row multiplied by 2 from second row and substract first row multiplied by 3 from third row\n",
    "$$\\begin{pmatrix}\n",
    "1 & c & 0\\\\\n",
    "0 & 4-2c & 1 \\\\\n",
    "0 & 5-3c & 1\n",
    "\\end{pmatrix}.$$ \n",
    "$c =2$ give 0 at second pivot position\n",
    "\n",
    "$$\n",
    "\\begin{pmatrix}\n",
    "1 & c & 0\\\\\n",
    "0 & 4-2c & 1 \\\\\n",
    "0 & 5-3c & 1\n",
    "\\end{pmatrix} $$\n",
    "\n",
    "Divide second row by 4-2c\n",
    "$$\\begin{pmatrix}\n",
    "1 & c & 0\\\\\n",
    "0 & 1 & 1/(4-2c) \\\\\n",
    "0 & 5-3c & 1\n",
    "\\end{pmatrix}$$\n",
    "Substract from the first row second row multiplied by $c$\n",
    "$$\\begin{pmatrix}\n",
    "1 & 0 & -c/(4-2c)\\\\\n",
    "0 & 1 & 1/(4-2c) \\\\\n",
    "0 & 5-3c & 1\n",
    "\\end{pmatrix}$$\n",
    "Substract from the third row second row multiplied by (5-3c)\n",
    "$$\\begin{pmatrix}\n",
    "1 & 0 & -c/(4-2c)\\\\\n",
    "0 & 1 & 1/(4-2c) \\\\\n",
    "0 & 0 & 1-(5-3c)/(4-2c)\n",
    "\\end{pmatrix}$$\n",
    "From the third row get c\n",
    " $$ 1-(5-3c) / (4-2c) = 0 $$\n",
    " $$ 4-2c -5+3c =0 $$\n",
    " $$ c=1 $$\n",
    "$ c=1$ will give zero in the third pivot position"
   ]
  },
  {
   "cell_type": "markdown",
   "metadata": {},
   "source": [
    "Sometimes LU may fail because pivot position can be zero, therefore, PLU decomposition with permutation of rows is a good choice to apply in such cases"
   ]
  },
  {
   "cell_type": "markdown",
   "metadata": {
    "id": "YFc3BR_TOGIj"
   },
   "source": [
    "### 3. Implementation of PLU decomposition (14 pts)\n",
    "\n",
    "As you have noticed before, LU decomposition may fail. In order to make it stable, we can use LU decomposition with pivoting  (PLU).\n",
    "\n",
    "We want to find such permutation matrix $P$ that LU decomposition of $PA$ exists\n",
    "\n",
    "$$ PA = LU $$\n",
    "\n",
    "- (7 pts) Implement efficiently PLU decomposition (without loops and with appropriate level of BLAS operations).  Also, pay attention to the way of permutation matrix storage.\n",
    "\n",
    "- (4 pts ) Compare your function for computing PLU with built-in function on matrices of such type ```(mirror_diag = [1,2,1], n = 4)```. (Bandwidth and matrix size may vary). So, you can pass them as dense 2D NumPy array and do not tune your implementation to this special structure. Compare them in terms of running time (use ```%timeit``` magic) for range of dimensions to recover the asymptotic rate of time increasing and in terms of acuracy. We expect you plot the running time vs matrix dimension for built-in function and your implementation. So you should get the plot with two lines.\n",
    "Consider additionally one of the pathological examples from above, where LU fails, but PLU has to work.\n",
    "\n",
    "\n",
    "$$A = \\begin{pmatrix}\n",
    "0 & 0 & 1 & 1 \\\\\n",
    " 0 &1 & 2 & 1  \\\\\n",
    " 1 & 2 & 1  & 0\\\\\n",
    "1 & 2  & 0 & 0  \\\\\n",
    "\\end{pmatrix}.$$\n",
    "\n",
    "\n",
    "- (3 pts) Discuss the obtained results and explain how is it possible to accelerate computing the PLU factorization. \n",
    "\n",
    "NumPy or JAX are both ok in this problem, but please use the single library for all implementations. "
   ]
  },
  {
   "cell_type": "code",
   "execution_count": 236,
   "metadata": {},
   "outputs": [],
   "source": [
    "def plu(A):\n",
    "    n = A.shape[0]\n",
    "    U = A.copy()\n",
    "    L = np.eye(n,dtype=np.double)\n",
    "    P = np.eye(n,dtype=np.double)\n",
    "    for i in range(n):\n",
    "        if np.isclose(U[i, i], 0.0):\n",
    "            for k in range(i, n): \n",
    "                if (~np.isclose(U[k, i], 0.0)):\n",
    "                    \n",
    "                    U[[i]],U[[k]] = U[[k]],U[[i]]\n",
    "                \n",
    "                    P[[i]],P[[k]] = P[[k]],P[[i]]\n",
    "                    break\n",
    "            \n",
    "        ratio = U[i+1:, i] / U[i, i]\n",
    "        L[i+1:, i] = ratio\n",
    "        U[i+1:] -= ratio[:, np.newaxis] * U[i]\n",
    "    return P, L, U\n"
   ]
  },
  {
   "cell_type": "code",
   "execution_count": 237,
   "metadata": {},
   "outputs": [
    {
     "name": "stdout",
     "output_type": "stream",
     "text": [
      "[[1. 5.]\n",
      " [0. 1.]]\n"
     ]
    }
   ],
   "source": [
    "A =np.array([[0,1],[1,5]],dtype=np.double)\n",
    "P,L,U = plu(A)\n",
    "print(L@U)"
   ]
  },
  {
   "cell_type": "code",
   "execution_count": 238,
   "metadata": {},
   "outputs": [],
   "source": [
    "from scipy.sparse import diags\n",
    "\n",
    "def make_mirror_diag(band,n):\n",
    "    positions = list(range(- (len(band)- 1) //2,(len(band)- 1) //2 +1))\n",
    "    return np.flip(diags(band,positions,shape=(n,n)).toarray(),axis=1)\n",
    "\n",
    "\n",
    "band = [4,1,2,1,4]\n",
    "n = 4\n",
    "\n",
    "A = make_mirror_diag(band,n)\n"
   ]
  },
  {
   "cell_type": "code",
   "execution_count": 239,
   "metadata": {},
   "outputs": [],
   "source": [
    "A = make_mirror_diag(band,20)"
   ]
  },
  {
   "cell_type": "code",
   "execution_count": 240,
   "metadata": {},
   "outputs": [],
   "source": [
    "import time\n",
    "import matplotlib.pyplot as plt\n",
    "import scipy"
   ]
  },
  {
   "cell_type": "code",
   "execution_count": 241,
   "metadata": {},
   "outputs": [],
   "source": [
    "time1 = []\n",
    "time2 = []\n",
    "ran = np.linspace(10,300,30).astype(np.int64)\n",
    "for i,j in enumerate(ran):\n",
    "    A = make_mirror_diag(band,j)\n",
    "\n",
    "    start = time.time()\n",
    "    myPLU = plu(A)\n",
    "    end = time.time()\n",
    "    time1.append(end-start)\n",
    "    \n",
    "\n",
    "\n",
    "    start = time.time()\n",
    "    scipy_lu=  scipy.linalg.lu(A)\n",
    "    end = time.time()\n",
    "    time2.append(end-start)\n"
   ]
  },
  {
   "cell_type": "code",
   "execution_count": 242,
   "metadata": {},
   "outputs": [
    {
     "data": {
      "text/plain": [
       "<matplotlib.legend.Legend at 0x1ecc1bd0d90>"
      ]
     },
     "execution_count": 242,
     "metadata": {},
     "output_type": "execute_result"
    },
    {
     "data": {
      "image/png": "[encoded data removed]",
      "text/plain": [
       "<Figure size 500x500 with 1 Axes>"
      ]
     },
     "metadata": {
      "needs_background": "light"
     },
     "output_type": "display_data"
    }
   ],
   "source": [
    "fig, axs = plt.subplots(nrows=1, ncols=1, figsize=(5, 5), dpi=100)\n",
    "\n",
    "plt.plot(time1, color='blue',label='myPLU')\n",
    "plt.plot(time2, color='red',label='scipyPLU')\n",
    "plt.ylabel(\"time\")\n",
    "plt.xlabel(\"shape\")\n",
    "#plt.yscale('log')\n",
    "plt.grid(True)\n",
    "plt.legend()"
   ]
  },
  {
   "cell_type": "code",
   "execution_count": 246,
   "metadata": {},
   "outputs": [],
   "source": [
    "A = np.array( [[0,0,1,1],[0,1,2,1],[1,2,1,0],[1,2,0,0]],dtype=np.double)"
   ]
  },
  {
   "cell_type": "code",
   "execution_count": 247,
   "metadata": {},
   "outputs": [
    {
     "data": {
      "text/plain": [
       "array([[0., 0., 1., 1.],\n",
       "       [0., 1., 2., 1.],\n",
       "       [1., 2., 1., 0.],\n",
       "       [1., 2., 0., 0.]])"
      ]
     },
     "execution_count": 247,
     "metadata": {},
     "output_type": "execute_result"
    }
   ],
   "source": [
    "A"
   ]
  },
  {
   "cell_type": "code",
   "execution_count": 248,
   "metadata": {},
   "outputs": [],
   "source": [
    "P,L,U = plu(A)"
   ]
  },
  {
   "cell_type": "code",
   "execution_count": 249,
   "metadata": {},
   "outputs": [],
   "source": [
    "L = scipy.linalg.lu(A)"
   ]
  },
  {
   "cell_type": "code",
   "execution_count": null,
   "metadata": {
    "id": "32HpfOPMOGIg"
   },
   "outputs": [],
   "source": [
    "# Your solution is here"
   ]
  },
  {
   "cell_type": "markdown",
   "metadata": {
    "id": "EQwdRJSIOGIg"
   },
   "source": [
    "### 4. Block LU (10 pts)\n",
    "\n",
    "Let $A = \\begin{bmatrix} A_{11} & A_{12} \\\\ A_{21} & A_{22} \\end{bmatrix}$ be a block matrix. The goal is to solve the linear system\n",
    "\n",
    "$$\n",
    "     \\begin{bmatrix} A_{11} & A_{12} \\\\ A_{21} & A_{22} \\end{bmatrix} \\begin{bmatrix} u_1 \\\\ u_2 \\end{bmatrix} = \\begin{bmatrix} f_1 \\\\ f_2 \\end{bmatrix}.\n",
    "$$\n",
    "\n",
    "* (2 pts) Using block elimination find matrix $S$ and right-hand side $\\hat{f_2}$ so that $u_2$ can be found from $S u_2 = \\hat{f_2}$. Note that the matrix $S$ is called <span style=\"color:red\">Schur complement</span> of the block $A_{11}$.\n",
    "* (4 pts) Using Schur complement properties prove that \n",
    "\n",
    "$$\\det(X+AB) = \\det(X)\\det(I+BX^{-1}A), $$\n",
    "\n",
    "\n",
    "where $X$ - nonsingular square matrix.\n",
    "* (4 pts) Let matrix $F \\in \\mathbb{R}^{m \\times n}$ and $G \\in \\mathbb{R}^{n \\times m}$. Prove that \n",
    "\n",
    "$$\\det(I_m - FG) = \\det(I_n - GF).$$"
   ]
  },
  {
   "cell_type": "markdown",
   "metadata": {
    "id": "4RBDYAWUOGIj",
    "tags": []
   },
   "source": [
    "### Your solution is here\n",
    "4.1. \\\\\\\n",
    "Let's rewrite the system into linear system form\n",
    "\n",
    "$$ A_{11}u_1 + A_{12}u_2 =f_1$$\n",
    "$$ A_{21}u_1 + A_{22}u_2 = f_2$$\n",
    "I will denote $u_1$ from the first equation\n",
    "$$\n",
    "u_1 +A^{-1}_{11}A_{12}u2=A^{-1}_{11}f_1$$\n",
    " $$A_{21}u_1 + A_{22}u_2 = f_2   \n",
    "$$\n",
    "$$ u_1 =A^{-1}_{11}f_1-A^{-1}_{11}A_{12}u2 $$\n",
    "Insert this equation into second equation of linear system\n",
    "$$ A_{21}(A^{-1}_{11}f_1-A^{-1}_{11}A_{12}u2)+ A_{22}u_2=f_2$$\n",
    "$$  A_{21}A^{-1}_{11}f_1 -A_{21} A^{-1}_{11}A_{12}u2 +A_{22}u_2 = f_2 $$\n",
    "\n",
    "$$ (A_{22}-A_{21} A^{-1}_{11}A_{12})u_2=f_2 - A_{21}A^{-1}_{11}f_1 $$\n",
    "$$ u_2 = \\frac{f_2 - A_{21}A^{-1}_{11}f_1}{(A_{22}-A_{21} A^{-1}_{11}A_{12})} $$\n",
    "Schur complement of block $A_{11}$ is\n",
    "$$ S= (A_{22}-A_{21} A^{-1}_{11}A_{12}) $$ \n",
    "$$ f_2 - A_{21}A^{-1}_{11}f_1 =\\widehat{f}_2  $$\n",
    "$$\\widehat{f}_2 = f_2 - A_{21} A_{11}^{-1}f_1 $$"
   ]
  },
  {
   "cell_type": "markdown",
   "metadata": {},
   "source": [
    "4.2"
   ]
  },
  {
   "cell_type": "markdown",
   "metadata": {},
   "source": [
    "Let M matrix $$\n",
    "     M = \\begin{bmatrix} X & A \\\\ -B & I \\end{bmatrix}  = \\begin{bmatrix} X & 0 \\\\ -B & I \\end{bmatrix} \\begin{bmatrix} I & X^{-1} A \\\\ 0 & I + B X^{-1}A \\end{bmatrix}\n",
    "$$ \n",
    "\n",
    "\n",
    "$$  det \\begin{bmatrix} X & A \\\\ -B & I \\end{bmatrix}  = \\det (X + AB ) =  \\det(X) \\det (I + B X^{-1} A)$$"
   ]
  },
  {
   "cell_type": "markdown",
   "metadata": {},
   "source": [
    "4.3."
   ]
  },
  {
   "cell_type": "markdown",
   "metadata": {},
   "source": [
    "Proof $\\det(I_m - FG) = \\det(I_n - GF).$"
   ]
  },
  {
   "cell_type": "markdown",
   "metadata": {},
   "source": [
    "Property of Schur complement $$\\det(A) = \\det{\\begin{pmatrix} E & F \\\\ G & H \\end{pmatrix}} = \\det(E)\\det(H-GE^{-1}F)$$"
   ]
  },
  {
   "cell_type": "markdown",
   "metadata": {},
   "source": [
    "\n",
    "The main feature that I am implementing schur complement to the different matrix blocks\n",
    "(1)\n",
    "\n",
    "$${\\begin{pmatrix} E & F \\\\ G & H \\end{pmatrix}} = {\\begin{pmatrix} E & 0 \\\\ G & I \\end{pmatrix}} {\\begin{pmatrix} I & E^{-1}F \\\\ 0 & H - GE^{-1}F \\end{pmatrix}}$$\n",
    "\n",
    "\n",
    "$$\\det{\\begin{pmatrix} E & F \\\\ G & H \\end{pmatrix}} = \\det(E)\\det(H-GE^{-1}F)$$\n",
    "\n",
    "\n",
    "$${\\begin{pmatrix} E & F \\\\ G & H \\end{pmatrix}} = {\\begin{pmatrix} I & F \\\\ 0 & H \\end{pmatrix}} {\\begin{pmatrix}  E - FH^{-1}G & 0 \\\\ H^{-1} G & I \\end{pmatrix}}$$\n",
    "\n",
    "$$\\det(A) = \\det{\\begin{pmatrix} E & F \\\\ G & H \\end{pmatrix}} = \\det(H)\\det(E-FH^{-1}G)$$\n",
    "\n",
    " Let $E = I_m, H = I_n$, then\n",
    "\n",
    "$$\\det(A) = \\det{\\begin{pmatrix} E & F \\\\ G & H \\end{pmatrix}} = \\det(I_m)\\det(I_n-GI_m^{-1}F) = \\det(I_n - GF)$$\n",
    "\n",
    "$$\\det(A) = \\det{\\begin{pmatrix} E & F \\\\ G & H \\end{pmatrix}} = \\det(I_n)\\det(I_m-FI_n^{-1}G) = \\det(I_m - FG)$$\n",
    "\n",
    "Consequently\n",
    "$$det(I_m - FG) = \\det(I_n - GF)$$\n"
   ]
  },
  {
   "cell_type": "markdown",
   "metadata": {},
   "source": [
    "## Problem 2 (eigenvalues)  (50 pts)\n",
    "\n",
    "### 1. Theoretical tasks (15 pts)\n",
    "\n",
    "* (2 pts) Prove that eigenvectors that correspond to distinct eigenvalues are linearly independent.\n",
    "\n",
    "* (3 pts) $A$ is a matrix such that $a_{i,j} \\ge 0$ and $\\sum_{j}a_{i,j} = 1$ (sum of the elements in each row is 1). Prove that $A$ has an eigenvalue $\\lambda=1$ and that any eigenvalue $\\lambda_i$: $|\\lambda_i| \\le 1$.\n",
    "\n",
    "* (5 pts) Prove that normal matrix is Hermitian iff its eigenvalues are real. Prove that normal matrix is unitary iff its eigenvalues satisfy $|\\lambda| = 1$. \n",
    "\n",
    "* (5 pts) The following problem illustrates instability of the Jordan form. Find theoretically the eigenvalues of the perturbed Jordan block (there is only one $\\varepsilon$ - in the left lower corner):\n",
    "\n",
    "$$\n",
    "    J(\\varepsilon) = \n",
    "    \\begin{bmatrix} \n",
    "     \\lambda & 1 & & & 0 \\\\ \n",
    "     0 & \\lambda & 1 & & \\\\ \n",
    "     & 0 & \\ddots & \\ddots & \\\\ \n",
    "     & & 0 & \\lambda & 1 \\\\ \n",
    "     \\varepsilon & & & 0 & \\lambda  \\\\ \n",
    "    \\end{bmatrix}_{n\\times n}\n",
    "$$\n",
    "\n",
    "   Comment how eigenvalues of $J(0)$ are perturbed for large $n$."
   ]
  },
  {
   "cell_type": "markdown",
   "metadata": {},
   "source": [
    "1.1"
   ]
  },
  {
   "cell_type": "markdown",
   "metadata": {},
   "source": [
    "Let $Av=\\lambda v$ and $Aw=\\mu w $, where $\\mu \\neq \\lambda $, $v,w$ is eigenvectors \n",
    "Assume $v,w$ are linearly dependent than $v=cw$, where coefficient $c \\neq 0$. \n",
    "Thus $\\lambda v=Av=cAw=c\\mu w = \\mu v$ \n",
    "We get that $\\lambda=\\mu$ thats contradicts to the initial condition"
   ]
  },
  {
   "cell_type": "markdown",
   "metadata": {},
   "source": [
    "1.2"
   ]
  },
  {
   "cell_type": "markdown",
   "metadata": {},
   "source": [
    "In the task stochastic matrix is provided. It is needed to proof that it's largest eigenvalue is equal to 1"
   ]
  },
  {
   "cell_type": "markdown",
   "metadata": {},
   "source": [
    "Let $\\lambda$ be an eigenvalue of the stochastic matrix A and let v be a corresponding eigenvector.\n",
    "We have\n",
    "$$ Av=\\lambda v $$\n",
    "Where each row of A has a property\n",
    "$$\\sum_{i=1}^n a_{ji}=1 $$\n",
    "Comparing the i-th row of the both sides, we obtain\n",
    "$$ a_{i1}v_1+a_{i2}v_2+\\cdots+a_{in}v_n=\\lambda v_i $$\n"
   ]
  },
  {
   "cell_type": "markdown",
   "metadata": {},
   "source": [
    "Let\n",
    "$$ |v_k|=\\max\\{|v_1|, |v_2|, \\dots, |v_n|\\} $$"
   ]
  },
  {
   "cell_type": "markdown",
   "metadata": {},
   "source": [
    "$v_k $ is the entry of v that has the maximal absolute value.$ |v_k|>0$\n"
   ]
  },
  {
   "cell_type": "markdown",
   "metadata": {},
   "source": [
    "\\begin{align*} \n",
    "|\\lambda|\\cdot |v_k| &= |a_{k1}v_1+a_{k2}v_2+\\cdots+a_{kn}v_n|\\\\ \n",
    "& \\leq a_{k1}|v_1|+a_2|v_2|+\\cdots+ a_{kn}|v_{n}| \\\\ \n",
    "&\\leq a_{k1}|v_k|+a_2|v_k|+\\cdots+ a_{kn}|v_{k}| \\\\ \n",
    "&=(a_{k1}+a_{k2}+\\cdots+a_{kn})|v_k|=|v_k|. \n",
    "\\end{align*}"
   ]
  },
  {
   "cell_type": "markdown",
   "metadata": {},
   "source": [
    "Having that $|vk|>0$, it can be concluded that <b>$\\lambda \\leq 1\n",
    " $</b>\n",
    "Thus maximal eigenvalue is 1"
   ]
  },
  {
   "cell_type": "markdown",
   "metadata": {
    "tags": []
   },
   "source": [
    "Also, it is easily can be proved by using Gershgorin circles.\n",
    "If diagonal element is x then sum of non-diag elements is 1-x. Radius of circle is a sum of non-diag elements.\n",
    "Taking extremal point when diagonal element of a row is equal to 0  correspondingly we will get radius of its circle $\\sum_{i \\neq k} a_{ki} = 1-a_{kk}$ which will be 1  if $a_{kk}=0$.  Thus, taking into consideration the theorem \"Every eigenvalue of A lies within at least one of the Gershgorin discs\" we will get $|\\lambda_i| \\leq 1$\n",
    "\n"
   ]
  },
  {
   "cell_type": "markdown",
   "metadata": {},
   "source": [
    "1.3"
   ]
  },
  {
   "cell_type": "markdown",
   "metadata": {},
   "source": [
    " $A^* A = A A^*$ it is normal matrix\n",
    " \n",
    " Using Shur form normal matrix can be decomposed\n",
    "\n",
    "$$A = U \\Lambda U^*, $$ U is unitary , $\\Lambda$ is diag$ (\\lambda_1, \\lambda_2, ..., \\lambda_n)$\n",
    "\n",
    "Columns of U is eigenvectors of A\n",
    "\n",
    "$$A^* A = U \\Lambda^{*} U^* U \\Lambda U^* = U \\Lambda^2 U^* = U \\Lambda$$\n",
    "\n",
    "Hermitian matrix is $A^* =A $\n",
    "\n",
    "Normal and eigenvalues are real\n",
    "\n",
    "$$A^*  = U \\Lambda^{*} U^* = U \\Lambda U^* = A $$\n",
    "\n",
    "then it is Hermitian\n",
    "\n",
    "Hermitian and normal\n",
    "\n",
    "$$A^*  = U \\Lambda^{*} U^* = U \\Lambda U^* = A \\Rightarrow  U^* U \\Lambda^{*} U^* U= U^* U \\Lambda U^* U \\Rightarrow \\Lambda^{*} = \\Lambda $$ then eigenvalues are real\n",
    "\n",
    " Normal and unitary\n",
    "\n",
    "$$A^* A = U \\Lambda^{*} U^*  U \\Lambda U^* = U \\Lambda^{*} \\Lambda U^*  = I \\Rightarrow  U^* U \\Lambda^{*} \\Lambda U^* U = I = \\Lambda^{*} \\Lambda  \\Rightarrow \\lambda_i^2 = 1 \\Rightarrow |\\lambda_i| = 1  $$\n",
    "Normal matrix with real eigenvalues always hermitian \\\\\\\n",
    " Normal and $I = \\Lambda^{*} \\Lambda$\n",
    "\n",
    "$$ AA^* = U \\Lambda U^* U \\Lambda^* U^* = I$$\n",
    "$$ A^*A = U \\Lambda^* U^* U \\Lambda U^* = I$$\n",
    "\n",
    "Then A is unitary"
   ]
  },
  {
   "cell_type": "markdown",
   "metadata": {},
   "source": [
    "1.4"
   ]
  },
  {
   "cell_type": "markdown",
   "metadata": {},
   "source": [
    "$$ \\det(J(\\epsilon) - f I) = \\lambda \\det M^1_1 + (-1)^{n+1} \\epsilon \\det M^n_1 = (\\lambda - f)^n + (-1)^{n+1} \\epsilon = 0 $$\n",
    "\n",
    "$$(\\lambda - f)^n =  ( |\\epsilon| ) e^{ (\\pi n + 2 \\pi k) i} \\Rightarrow \\lambda - f = (|\\epsilon|)^{1/n} e^{\\frac{(\\pi n + 2 \\pi k) i}{n}}, k \\in Z$$\n",
    "\n",
    "$$f = \\lambda - (|\\epsilon|)^{1/n} e^{\\frac{(\\pi n + 2 \\pi k) i}{n}} \\to f = \\lambda , n \\to \\inf$$\n",
    "\n",
    "$$det(J(0) - f I) = 0, (\\lambda - f)^n = 0, f = \\lambda $$ n multiplicity"
   ]
  },
  {
   "cell_type": "markdown",
   "metadata": {},
   "source": [
    "Lets find characteristic polynomial for jordan block"
   ]
  },
  {
   "cell_type": "markdown",
   "metadata": {},
   "source": [
    "\n",
    "\n",
    "$$det( J(\\varepsilon)-\\lambda I) = (\\lambda-\\lambda_i)^n +(-1)^{n+1}\\varepsilon $$\n"
   ]
  },
  {
   "cell_type": "markdown",
   "metadata": {},
   "source": [
    "Lets find roots of characteristic polynomial equation"
   ]
  },
  {
   "cell_type": "markdown",
   "metadata": {},
   "source": [
    "$$(\\lambda-\\lambda_i)^n =(-1)^{n}\\varepsilon  $$\n",
    "$$(\\lambda- \\lambda_i)^n = (-1)^n\\varepsilon = \\varepsilon e^{i\\pi n}$$\n",
    "\n",
    "$$(\\lambda - \\lambda_i) = \\varepsilon^{\\frac{1}{n}}e^{i\\left(\\pi + \\frac{2\\pi k}{n}\\right)}, ~k=0 \\ldots n-1$$\n",
    "\n",
    "\n",
    "$$\\lambda_i = \\lambda - \\varepsilon^{\\frac{1}{n}}e^{i\\left(\\pi + \\frac{2\\pi k}{n}\\right)} = \\lambda + \\varepsilon^{\\frac{1}{n}}e^{i\\frac{2\\pi k}{n}}, ~~k=0 \\dots n-1$$\n",
    "\n"
   ]
  },
  {
   "cell_type": "markdown",
   "metadata": {},
   "source": [
    "Therefore, eigenvalues of $J(0)$ are don't depend on $ \\varepsilon$  for large matrices, because $\\varepsilon^{\\frac{1}{n}}e^{i\\frac{2\\pi k}{n}}$ will be -> to 1"
   ]
  },
  {
   "cell_type": "markdown",
   "metadata": {
    "id": "xWcyqKyrOGIp"
   },
   "source": [
    "### 2. PageRank (35 pts)\n",
    "\n",
    "\n",
    "#### Damping factor importance\n",
    "\n",
    "* (5 pts) Write the function ```pagerank_matrix(G)``` that takes an adjacency matrix $G$ (in both sparse and dense formats) as an input and outputs the corresponding PageRank matrix $A$."
   ]
  },
  {
   "cell_type": "markdown",
   "metadata": {},
   "source": [
    "2.1"
   ]
  },
  {
   "cell_type": "code",
   "execution_count": 1,
   "metadata": {},
   "outputs": [],
   "source": [
    "import numpy as np\n",
    "import scipy\n",
    "# INPUT:  G - np.ndarray or sparse matrix\n",
    "# OUTPUT: A - np.ndarray (of size G.shape) or sparse matrix\n",
    "def pagerank_matrix(G):\n",
    "    # enter your code here\n",
    "    A = G  / G.sum(axis = 0)\n",
    "    return A"
   ]
  },
  {
   "cell_type": "markdown",
   "metadata": {
    "id": "BtVmgGnYOGIs"
   },
   "source": [
    "* (3 pts) Find PageRank matrix $A$ that corresponds to the following graph: <img src=\"graph.png\" width='250'>\n",
    "What is its largest eigenvalue? What multiplicity does it have?\n",
    "\n",
    "\n",
    "* (5 pts) Implement the power method for a given matrix $A$, an initial guess $x_0$ and a number of iterations ```num_iter```. It should be organized as a function ```power_method(A, x0, num_iter)``` that outputs approximation to eigenvector $x$, eigenvalue $\\lambda$ and history of residuals $\\{\\|Ax_k - \\lambda_k x_k\\|_2\\}$. Make sure that the method converges to the correct solution on a matrix $\\begin{bmatrix} 2 & -1 \\\\ -1 & 2 \\end{bmatrix}$ which is known to have the largest eigenvalue equal to $3$."
   ]
  },
  {
   "cell_type": "markdown",
   "metadata": {},
   "source": [
    "2.2"
   ]
  },
  {
   "cell_type": "code",
   "execution_count": 2,
   "metadata": {},
   "outputs": [
    {
     "data": {
      "text/plain": [
       "array([[0. , 0.5, 0. , 0. , 0. ],\n",
       "       [0. , 0. , 1. , 0. , 0. ],\n",
       "       [1. , 0.5, 0. , 0. , 0. ],\n",
       "       [0. , 0. , 0. , 0. , 1. ],\n",
       "       [0. , 0. , 0. , 1. , 0. ]])"
      ]
     },
     "execution_count": 2,
     "metadata": {},
     "output_type": "execute_result"
    }
   ],
   "source": [
    "G = np.array([[0, 1, 0, 0, 0],\n",
    "              [0, 0, 1, 0, 0],\n",
    "              [1, 1, 0, 0, 0],\n",
    "              [0, 0, 0, 0, 1],\n",
    "              [0, 0, 0, 1, 0]], dtype='float')\n",
    "\n",
    "\n",
    "pagerank_matrix(G)"
   ]
  },
  {
   "cell_type": "code",
   "execution_count": 3,
   "metadata": {},
   "outputs": [
    {
     "data": {
      "text/plain": [
       "(1.0000000000000002+0j)"
      ]
     },
     "execution_count": 3,
     "metadata": {},
     "output_type": "execute_result"
    }
   ],
   "source": [
    "max((np.linalg.eigvals(pagerank_matrix(G))))"
   ]
  },
  {
   "cell_type": "code",
   "execution_count": 4,
   "metadata": {},
   "outputs": [
    {
     "data": {
      "text/plain": [
       "array([-0.5+0.5j, -0.5-0.5j,  1. +0.j ,  1. +0.j , -1. +0.j ])"
      ]
     },
     "execution_count": 4,
     "metadata": {},
     "output_type": "execute_result"
    }
   ],
   "source": [
    "np.linalg.eigvals(pagerank_matrix(G))"
   ]
  },
  {
   "cell_type": "markdown",
   "metadata": {},
   "source": [
    "We've got 1 because G is left stochastic matrix i.e. its columns sum up to 1. Any left stochastic matrix has maximum eigenvalue equal to 1."
   ]
  },
  {
   "cell_type": "markdown",
   "metadata": {},
   "source": [
    "2.3"
   ]
  },
  {
   "cell_type": "code",
   "execution_count": 5,
   "metadata": {
    "id": "uLo7A--rOGIs",
    "tags": []
   },
   "outputs": [],
   "source": [
    "# INPUT:  A - np.ndarray (2D), x0 - np.ndarray (1D), num_iter - integer (positive)\n",
    "# OUTPUT: x - np.ndarray (of size x0), l - float, res - np.ndarray (of size num_iter + 1 [include initial guess])\n",
    "def power_method(A, x0, num_iter): # 5 pts\n",
    "    \n",
    "   # x = x0\n",
    "    x0= x0/np.linalg.norm(x0)\n",
    "    x = A@x0\n",
    "   \n",
    "    res = np.zeros( (num_iter+1)  )\n",
    "\n",
    "    res[0] = np.linalg.norm(A@x0-np.dot(A@x0, x0)*x0)\n",
    "    \n",
    "    for i in range(1,num_iter):\n",
    "        \n",
    "        x = A @ x\n",
    "        x = x / np.linalg.norm(x)\n",
    "        l = np.vdot(A @ x, x)\n",
    "        res[i] = np.linalg.norm(A @ x - l * x)\n",
    "        \n",
    "    return x, l, res"
   ]
  },
  {
   "cell_type": "markdown",
   "metadata": {},
   "source": [
    "The convergence is geometric. Ratio of conv of power method is $q^k$ where $q = |\\frac{\\lambda_2}{\\lambda_1}|$ and as we have $\\lambda_2 = -\\lambda_1$ \n",
    "Thus, there won't be any convergence"
   ]
  },
  {
   "cell_type": "code",
   "execution_count": 6,
   "metadata": {},
   "outputs": [],
   "source": [
    "import matplotlib.pyplot as plt"
   ]
  },
  {
   "cell_type": "code",
   "execution_count": 7,
   "metadata": {},
   "outputs": [],
   "source": [
    "A = np.array([[2, -1],[-1,2]])\n",
    "x0 = np.random.random(A.shape[0])\n",
    "\n",
    "x, l ,res = power_method(A,x0,100)"
   ]
  },
  {
   "cell_type": "code",
   "execution_count": 8,
   "metadata": {},
   "outputs": [],
   "source": [
    "eigen_list = []\n",
    "x0 = np.random.random(A.shape[0])\n",
    "\n",
    "for i in range(3,100):\n",
    "    x, l,res = power_method(A,x0,i)\n",
    "    eigen_list.append(l)"
   ]
  },
  {
   "cell_type": "code",
   "execution_count": 9,
   "metadata": {},
   "outputs": [
    {
     "name": "stderr",
     "output_type": "stream",
     "text": [
      "No handles with labels found to put in legend.\n"
     ]
    },
    {
     "data": {
      "text/plain": [
       "<matplotlib.legend.Legend at 0x1b0cd8ee7c0>"
      ]
     },
     "execution_count": 9,
     "metadata": {},
     "output_type": "execute_result"
    },
    {
     "data": {
      "image/png": "[encoded data removed]",
      "text/plain": [
       "<Figure size 500x500 with 1 Axes>"
      ]
     },
     "metadata": {
      "needs_background": "light"
     },
     "output_type": "display_data"
    }
   ],
   "source": [
    "fig, axs = plt.subplots(nrows=1, ncols=1, figsize=(5, 5), dpi=100)\n",
    "\n",
    "plt.plot(eigen_list, color='blue')\n",
    "\n",
    "plt.ylabel(\"Eigenvalues\")\n",
    "plt.xlabel(\"iterations\")\n",
    "#plt.yscale('log')\n",
    "plt.grid(True)\n",
    "plt.legend()"
   ]
  },
  {
   "cell_type": "markdown",
   "metadata": {},
   "source": [
    "2.4"
   ]
  },
  {
   "cell_type": "code",
   "execution_count": 10,
   "metadata": {},
   "outputs": [],
   "source": [
    "x0 = np.random.random(G.shape[0])\n",
    "\n",
    "x, l ,res = power_method(pagerank_matrix(G),x0,20)"
   ]
  },
  {
   "cell_type": "code",
   "execution_count": 11,
   "metadata": {},
   "outputs": [
    {
     "data": {
      "text/plain": [
       "array([[0., 1., 0., 0., 0.],\n",
       "       [0., 0., 1., 0., 0.],\n",
       "       [1., 1., 0., 0., 0.],\n",
       "       [0., 0., 0., 0., 1.],\n",
       "       [0., 0., 0., 1., 0.]])"
      ]
     },
     "execution_count": 11,
     "metadata": {},
     "output_type": "execute_result"
    }
   ],
   "source": [
    "G"
   ]
  },
  {
   "cell_type": "code",
   "execution_count": 12,
   "metadata": {},
   "outputs": [
    {
     "data": {
      "text/plain": [
       "0.7340257165550095"
      ]
     },
     "execution_count": 12,
     "metadata": {},
     "output_type": "execute_result"
    }
   ],
   "source": [
    "l"
   ]
  },
  {
   "cell_type": "code",
   "execution_count": 13,
   "metadata": {},
   "outputs": [
    {
     "name": "stderr",
     "output_type": "stream",
     "text": [
      "No handles with labels found to put in legend.\n"
     ]
    },
    {
     "data": {
      "text/plain": [
       "<matplotlib.legend.Legend at 0x1b0cd9dc190>"
      ]
     },
     "execution_count": 13,
     "metadata": {},
     "output_type": "execute_result"
    },
    {
     "data": {
      "image/png": "[encoded data removed]",
      "text/plain": [
       "<Figure size 500x500 with 1 Axes>"
      ]
     },
     "metadata": {
      "needs_background": "light"
     },
     "output_type": "display_data"
    }
   ],
   "source": [
    "fig, axs = plt.subplots(nrows=1, ncols=1, figsize=(5, 5), dpi=100)\n",
    "\n",
    "plt.plot(res, color='blue')\n",
    "\n",
    "plt.ylabel(\"RES\")\n",
    "plt.xlabel(\"iterations\")\n",
    "plt.yscale('log')\n",
    "plt.grid(True)\n",
    "plt.title('residuals')\n",
    "plt.legend()"
   ]
  },
  {
   "cell_type": "markdown",
   "metadata": {
    "id": "9hAowO6zOGIu"
   },
   "source": [
    "* (2 pts) Run the power method for the graph presented above and plot residuals $\\|Ax_k - \\lambda_k x_k\\|_2$ as a function of $k$ for ```num_iter=100``` and random initial guess ```x0```.  Explain the absence of convergence. \n",
    "\n",
    "\n",
    "* (2 pts) Consider the same graph, but with additional self loop at node 4 (self loop is an edge that connects a vertex with itself). Plot residuals as in the previous task and discuss the convergence. Now, run the power method with ```num_iter=100``` for 10 different initial guesses and print/plot the resulting approximated eigenvectors. Why do they depend on the initial guess?\n",
    "\n",
    "\n",
    "In order to avoid this problem Larry Page and Sergey Brin [proposed](http://ilpubs.stanford.edu:8090/422/1/1999-66.pdf) to use the following regularization technique:\n",
    "\n",
    "$$\n",
    "A_d = dA + \\frac{1-d}{N} \\begin{pmatrix} 1 & \\dots & 1 \\\\ \\vdots & & \\vdots \\\\ 1 & \\dots & 1 \\end{pmatrix},\n",
    "$$\n",
    "\n",
    "where $d$ is a small parameter in $[0,1]$ (typically $d=0.85$), which is called **damping factor**, $A$ is of size $N\\times N$. Now $A_d$ is the matrix with multiplicity of the largest eigenvalue equal to 1. \n",
    "Recall that computing the eigenvector of the PageRank matrix, which corresponds to the largest eigenvalue, has the following interpretation. Consider a person who stays in a random node of a graph (i.e. opens a random web page); at each step s/he follows one of the outcoming edges uniformly at random (i.e. opens one of the links). So the person randomly walks through the graph and the eigenvector we are looking for is exactly his/her stationary distribution â€” for each node it tells you the probability of visiting this particular node. Therefore, if the person has started from a part of the graph which is not connected with the other part, he will never get there.  In the regularized model, the person at each step follows one of the outcoming links with probability $d$ OR teleports to a random node from the whole graph with probability $(1-d)$.\n",
    "\n",
    "* (2 pts) Now, run the power method with $A_d$ and plot residuals $\\|A_d x_k - \\lambda_k x_k\\|_2$ as a function of $k$ for $d=0.97$, ```num_iter=100``` and a random initial guess ```x0```.\n",
    "\n",
    "* (5 pts) Find the second largest in the absolute value eigenvalue of the obtained matrix $A_d$. How and why is it connected to the damping factor $d$? What is the convergence rate of the PageRank algorithm when using damping factor?\n",
    "\n",
    "Usually, graphs that arise in various areas are sparse (social, web, road networks, etc.) and, thus, computation of a matrix-vector product for corresponding PageRank matrix $A$ is much cheaper than $\\mathcal{O}(N^2)$. However, if $A_d$ is calculated directly, it becomes dense and, therefore, $\\mathcal{O}(N^2)$ cost grows prohibitively large for  big $N$.\n",
    "\n",
    "\n",
    "* (2 pts) Implement fast matrix-vector product for $A_d$ as a function ```pagerank_matvec(A, d, x)```, which takes a PageRank matrix $A$ (in sparse format, e.g., ```csr_matrix```), damping factor $d$ and a vector $x$ as an input and returns $A_dx$ as an output. \n",
    "\n",
    "* (1 pts) Generate a random adjacency matrix of size $10000 \\times 10000$ with only 100 non-zero elements and compare ```pagerank_matvec``` performance with direct evaluation of $A_dx$."
   ]
  },
  {
   "cell_type": "markdown",
   "metadata": {},
   "source": [
    "2.5."
   ]
  },
  {
   "cell_type": "code",
   "execution_count": 14,
   "metadata": {},
   "outputs": [],
   "source": [
    "G_2 = np.array([[0, 1, 0, 0, 0],\n",
    "              [0, 0, 1, 0, 0],\n",
    "              [1, 1, 0, 0, 0],\n",
    "              [0, 0, 0, 0, 1],\n",
    "              [0, 0, 0, 1, 1]], dtype='float')"
   ]
  },
  {
   "cell_type": "code",
   "execution_count": 15,
   "metadata": {},
   "outputs": [],
   "source": [
    "x0 = np.random.random(G_2.shape[0])\n",
    "\n",
    "x, l ,res = power_method(pagerank_matrix(G_2),x0,100)"
   ]
  },
  {
   "cell_type": "code",
   "execution_count": 16,
   "metadata": {},
   "outputs": [
    {
     "name": "stderr",
     "output_type": "stream",
     "text": [
      "No handles with labels found to put in legend.\n"
     ]
    },
    {
     "data": {
      "text/plain": [
       "<matplotlib.legend.Legend at 0x1b0cda94880>"
      ]
     },
     "execution_count": 16,
     "metadata": {},
     "output_type": "execute_result"
    },
    {
     "data": {
      "image/png": "[encoded data removed]",
      "text/plain": [
       "<Figure size 500x500 with 1 Axes>"
      ]
     },
     "metadata": {
      "needs_background": "light"
     },
     "output_type": "display_data"
    }
   ],
   "source": [
    "fig, axs = plt.subplots(nrows=1, ncols=1, figsize=(5, 5), dpi=100)\n",
    "\n",
    "plt.plot(res, color='blue')\n",
    "\n",
    "plt.ylabel(\"RES\")\n",
    "#plt.yscale('log')\n",
    "plt.xlabel(\"iterations\")\n",
    "plt.yscale('log')\n",
    "plt.grid(True)\n",
    "plt.title('residuals')\n",
    "plt.legend()"
   ]
  },
  {
   "cell_type": "markdown",
   "metadata": {},
   "source": [
    "2.6."
   ]
  },
  {
   "cell_type": "code",
   "execution_count": 17,
   "metadata": {},
   "outputs": [],
   "source": [
    "eigenvectors = []\n",
    "\n",
    "for i in range(10):\n",
    "    x0 = np.random.random(G_2.shape[0])\n",
    "\n",
    "    x, l, res = power_method(pagerank_matrix(G_2), x0, 100)\n",
    "    eigenvectors.append(x)"
   ]
  },
  {
   "cell_type": "code",
   "execution_count": 18,
   "metadata": {},
   "outputs": [
    {
     "data": {
      "text/plain": [
       "[array([0.23201163, 0.46402327, 0.46402327, 0.32110292, 0.64220584]),\n",
       " array([0.30395695, 0.60791389, 0.60791389, 0.183571  , 0.36714201]),\n",
       " array([0.15785028, 0.31570055, 0.31570055, 0.39389075, 0.7877815 ]),\n",
       " array([0.32687709, 0.65375418, 0.65375418, 0.08759259, 0.17518518]),\n",
       " array([0.26591495, 0.53182991, 0.53182991, 0.26966762, 0.53933525]),\n",
       " array([0.28409243, 0.56818487, 0.56818487, 0.23393307, 0.46786614]),\n",
       " array([0.27892595, 0.5578519 , 0.5578519 , 0.24486847, 0.48973694]),\n",
       " array([0.22093729, 0.44187457, 0.44187457, 0.33486727, 0.66973454]),\n",
       " array([0.24264938, 0.48529875, 0.48529875, 0.30662404, 0.61324808]),\n",
       " array([0.26439865, 0.5287973 , 0.5287973 , 0.2723381 , 0.54467619])]"
      ]
     },
     "execution_count": 18,
     "metadata": {},
     "output_type": "execute_result"
    }
   ],
   "source": [
    "eigenvectors"
   ]
  },
  {
   "cell_type": "markdown",
   "metadata": {},
   "source": [
    "Eigenvector is a linear combination of eigenvectors. There is straight connection between them. And also as it is seen from the charts above convergence is slow for this type of graphs, thus it is all affects on the end eigenvectors value"
   ]
  },
  {
   "cell_type": "code",
   "execution_count": 19,
   "metadata": {},
   "outputs": [
    {
     "name": "stderr",
     "output_type": "stream",
     "text": [
      "No handles with labels found to put in legend.\n"
     ]
    },
    {
     "data": {
      "text/plain": [
       "<matplotlib.legend.Legend at 0x1b0cdb57ac0>"
      ]
     },
     "execution_count": 19,
     "metadata": {},
     "output_type": "execute_result"
    },
    {
     "data": {
      "image/png": "[encoded data removed]",
      "text/plain": [
       "<Figure size 500x500 with 1 Axes>"
      ]
     },
     "metadata": {
      "needs_background": "light"
     },
     "output_type": "display_data"
    }
   ],
   "source": [
    "fig, axs = plt.subplots(nrows=1, ncols=1, figsize=(5, 5), dpi=100)\n",
    "\n",
    "plt.plot(eigenvectors, color='blue')\n",
    "\n",
    "plt.ylabel(\"Eigenvectors\")\n",
    "plt.xlabel(\"iterations\")\n",
    "plt.yscale('log')\n",
    "plt.grid(True)\n",
    "plt.title('Eigenvectors')\n",
    "plt.legend()"
   ]
  },
  {
   "cell_type": "markdown",
   "metadata": {},
   "source": [
    "2.7"
   ]
  },
  {
   "cell_type": "code",
   "execution_count": 20,
   "metadata": {},
   "outputs": [
    {
     "name": "stderr",
     "output_type": "stream",
     "text": [
      "No handles with labels found to put in legend.\n"
     ]
    },
    {
     "data": {
      "text/plain": [
       "<matplotlib.legend.Legend at 0x1b0cda9dc70>"
      ]
     },
     "execution_count": 20,
     "metadata": {},
     "output_type": "execute_result"
    },
    {
     "data": {
      "image/png": "[encoded data removed]",
      "text/plain": [
       "<Figure size 500x500 with 1 Axes>"
      ]
     },
     "metadata": {
      "needs_background": "light"
     },
     "output_type": "display_data"
    }
   ],
   "source": [
    "A = pagerank_matrix(G_2)\n",
    "d = 0.97\n",
    "Ad = d * A + ((1-d)/A.shape[0])* np.ones(A.shape)\n",
    "x0 = np.random.random(G_2.shape[0])\n",
    "\n",
    "\n",
    "x, l, res = power_method(Ad, x0, 100)\n",
    "\n",
    "fig, axs = plt.subplots(nrows=1, ncols=1, figsize=(5, 5), dpi=100)\n",
    "\n",
    "plt.plot(res, color='blue')\n",
    "plt.ylabel(\"RES\")\n",
    "plt.yscale('log')\n",
    "plt.xlabel(\"num_iter\")\n",
    "plt.grid(True)\n",
    "plt.title('residuals')\n",
    "plt.legend()"
   ]
  },
  {
   "cell_type": "markdown",
   "metadata": {},
   "source": [
    "2.8"
   ]
  },
  {
   "cell_type": "code",
   "execution_count": 21,
   "metadata": {},
   "outputs": [
    {
     "data": {
      "text/plain": [
       "(0.9699999999999996+0j)"
      ]
     },
     "execution_count": 21,
     "metadata": {},
     "output_type": "execute_result"
    }
   ],
   "source": [
    "eigenvalue = np.linalg.eigvals(Ad)\n",
    "sorted(eigenvalue)[-2]"
   ]
  },
  {
   "cell_type": "markdown",
   "metadata": {},
   "source": [
    "Second largest eigenvalue is equal to the $d$"
   ]
  },
  {
   "cell_type": "markdown",
   "metadata": {},
   "source": [
    "* (2 pts) Implement fast matrix-vector product for $A_d$ as a function ```pagerank_matvec(A, d, x)```, which takes a PageRank matrix $A$ (in sparse format, e.g., ```csr_matrix```), damping factor $d$ and a vector $x$ as an input and returns $A_dx$ as an output. \n",
    "\n",
    "* (1 pts) Generate a random adjacency matrix of size $10000 \\times 10000$ with only 100 non-zero elements and compare ```pagerank_matvec``` performance with direct evaluation of $A_dx$."
   ]
  },
  {
   "cell_type": "code",
   "execution_count": 42,
   "metadata": {
    "id": "4o3LKx5UOGIv"
   },
   "outputs": [],
   "source": [
    "# INPUT:  A - np.ndarray (2D), d - float (from 0.0 to 1.0), x - np.ndarray (1D, size of A.shape[0/1])\n",
    "# OUTPUT: y - np.ndarray (1D, size of x)\n",
    "\n",
    "def pagerank_matvec(A, d, x): # 2 pts\n",
    "   # A = pagerank_matrix(A)\n",
    " #   A_sparse = csr_matrix(A ).toarray()\n",
    "    ones= scipy.sparse.csr_matrix(A.shape)\n",
    "\n",
    "    Ad = A.multiply(d)+ones.multiply((1-d)/A.shape[0])\n",
    "\n",
    "    y=Ad.dot(x)\n",
    "    \n",
    "    return y\n",
    "\n",
    "    \n",
    "    # enter your code here\n",
    "   "
   ]
  },
  {
   "cell_type": "code",
   "execution_count": 43,
   "metadata": {},
   "outputs": [],
   "source": [
    "from scipy import stats"
   ]
  },
  {
   "cell_type": "code",
   "execution_count": 44,
   "metadata": {},
   "outputs": [],
   "source": [
    "from scipy.sparse import issparse\n",
    "def pagerank_matrix(G):\n",
    "    # enter your code here\n",
    "    if issparse(G):\n",
    "        A = G.multiply(1 / G.sum(axis = 0))\n",
    "    else:\n",
    "        A = G  / G.sum(axis = 0)\n",
    "    return A"
   ]
  },
  {
   "cell_type": "code",
   "execution_count": 45,
   "metadata": {},
   "outputs": [
    {
     "name": "stderr",
     "output_type": "stream",
     "text": [
      "<ipython-input-44-3dc7c4a5daf3>:5: RuntimeWarning: divide by zero encountered in true_divide\n",
      "  A = G.multiply(1 / G.sum(axis = 0))\n"
     ]
    }
   ],
   "source": [
    "from scipy.sparse import rand\n",
    "from scipy import stats\n",
    "\n",
    "sparse_matrix= rand(10000, 10000, density=1e-6, format='csr',random_state=42)\n",
    "\n",
    "A = pagerank_matrix(sparse_matrix)"
   ]
  },
  {
   "cell_type": "code",
   "execution_count": 46,
   "metadata": {},
   "outputs": [
    {
     "name": "stdout",
     "output_type": "stream",
     "text": [
      "696 µs ± 124 µs per loop (mean ± std. dev. of 7 runs, 1000 loops each)\n"
     ]
    }
   ],
   "source": [
    "d = 0.93\n",
    "x = np.random.random(size=10000)\n",
    "%timeit pagerank_matvec(A, d, x)"
   ]
  },
  {
   "cell_type": "code",
   "execution_count": 47,
   "metadata": {},
   "outputs": [
    {
     "name": "stdout",
     "output_type": "stream",
     "text": [
      "1.29 s ± 133 ms per loop (mean ± std. dev. of 7 runs, 1 loop each)\n"
     ]
    }
   ],
   "source": [
    "%timeit (d*A + (1-d)/A.shape[0] * np.ones((10000, 10000))).dot(x)"
   ]
  },
  {
   "cell_type": "markdown",
   "metadata": {
    "id": "ru70NGUlOGIy"
   },
   "source": [
    "from scipy.sparse.linalg import LinearOperator\n",
    "d = 0.85\n",
    "L = LinearOperator(A.shape, matvec=lambda x, A=A, d=d: pagerank_matvec(A, d, x))#### DBLP: computer science bibliography\n",
    "\n",
    "Download the dataset from [here](https://goo.gl/oZVxEa), unzip it and put `dblp_authors.npz`  and `dblp_graph.npz` in the same folder with this notebook. Each value (author name) from `dblp_authors.npz` corresponds to the row/column of the matrix from `dblp_graph.npz`. Value at row `i` and column `j` of the matrix from `dblp_graph.npz` corresponds to the number of times author `i` cited papers of the author `j`. Let us now find the most significant scientists according to PageRank model over DBLP data.\n",
    "\n",
    "* (4 pts) Load the weighted adjacency matrix and the authors list into Python using ```load_dblp(...)``` function. Print its density (fraction of nonzero elements). Find top-10 most cited authors from the weighted adjacency matrix. Now, make all the weights of the adjacency matrix equal to 1 for simplicity (consider only existence of connection between authors, not its weight). Obtain the PageRank matrix $A$ from the adjacency matrix and verify that it is stochastic.\n",
    " \n",
    " \n",
    "* (1 pts) In order to provide ```pagerank_matvec``` to your ```power_method``` (without rewriting it) for fast calculation of $A_dx$, you can create a ```LinearOperator```: \n",
    "```python\n",
    "L = scipy.sparse.linalg.LinearOperator(A.shape, matvec=lambda x, A=A, d=d: pagerank_matvec(A, d, x))\n",
    "```\n",
    "Calling ```L@x``` or ```L.dot(x)``` will result in calculation of ```pagerank_matvec(A, d, x)``` and, thus, you can plug $L$ instead of the matrix $A$ in the ```power_method``` directly. **Note:** though in the previous subtask graph was very small (so you could disparage fast matvec implementation), here it is very large (but sparse), so that direct evaluation of $A_dx$ will require $\\sim 10^{12}$ matrix elements to store - good luck with that (^_<).\n",
    "\n",
    "\n",
    "* (2 pts) Run the power method starting from the vector of all ones and plot residuals $\\|A_dx_k - \\lambda_k x_k\\|_2$  as a function of $k$ for $d=0.85$.\n",
    "\n",
    "\n",
    "* (1 pts) Print names of the top-10 authors according to PageRank over DBLP when $d=0.85$. Comment on your findings."
   ]
  },
  {
   "cell_type": "code",
   "execution_count": 6,
   "metadata": {},
   "outputs": [],
   "source": [
    "from scipy.sparse.linalg import LinearOperator\n",
    "d = 0.85\n",
    "L = LinearOperator((330**2, 330**2), matvec = lambda x: x)"
   ]
  },
  {
   "cell_type": "code",
   "execution_count": 1,
   "metadata": {
    "id": "L5ZnW7m-OGIz"
   },
   "outputs": [],
   "source": [
    "from scipy.sparse import load_npz\n",
    "import numpy as np\n",
    "def load_dblp(path_auth, path_graph):\n",
    "    G = load_npz(path_graph).astype(float)\n",
    "    with np.load(path_auth) as data: authors = data['authors']\n",
    "    return G, authors\n",
    "G, authors = load_dblp('dblp_authors.npz', 'dblp_graph.npz')"
   ]
  },
  {
   "cell_type": "code",
   "execution_count": 2,
   "metadata": {
    "id": "QynfixvjOGI1"
   },
   "outputs": [],
   "source": [
    "# Your code is here"
   ]
  },
  {
   "cell_type": "code",
   "execution_count": 3,
   "metadata": {},
   "outputs": [
    {
     "data": {
      "text/plain": [
       "4.4986518152305776e-05"
      ]
     },
     "execution_count": 3,
     "metadata": {},
     "output_type": "execute_result"
    }
   ],
   "source": [
    "# density\n",
    "G.count_nonzero() / (G.shape[0] * G.shape[1])"
   ]
  },
  {
   "cell_type": "code",
   "execution_count": 4,
   "metadata": {},
   "outputs": [],
   "source": [
    "frequency = G.sum(axis = 0)"
   ]
  },
  {
   "cell_type": "code",
   "execution_count": 52,
   "metadata": {},
   "outputs": [
    {
     "data": {
      "text/plain": [
       "array(['Scott Shenker', 'Andrew Zisserman', 'Hari Balakrishnan',\n",
       "       'Jiawei Han', 'Anil K. Jain', 'Cordelia Schmid', 'Jitendra Malik',\n",
       "       'Ion Stoica', 'David E. Culler', 'David G. Lowe', 'Ian T. Foster'],\n",
       "      dtype='<U98')"
      ]
     },
     "execution_count": 52,
     "metadata": {},
     "output_type": "execute_result"
    }
   ],
   "source": [
    "frequency = G.sum(axis = 0)\n",
    "(authors[np.array((frequency).argsort())[0][-11:]])[::-1]"
   ]
  },
  {
   "cell_type": "code",
   "execution_count": 53,
   "metadata": {},
   "outputs": [],
   "source": [
    "G[G != 0] = 1"
   ]
  },
  {
   "cell_type": "code",
   "execution_count": 54,
   "metadata": {},
   "outputs": [
    {
     "name": "stderr",
     "output_type": "stream",
     "text": [
      "<ipython-input-44-3dc7c4a5daf3>:5: RuntimeWarning: divide by zero encountered in true_divide\n",
      "  A = G.multiply(1 / G.sum(axis = 0))\n"
     ]
    }
   ],
   "source": [
    "A = pagerank_matrix(G.T)"
   ]
  },
  {
   "cell_type": "code",
   "execution_count": 55,
   "metadata": {},
   "outputs": [],
   "source": [
    "sum_nonzero = A.sum(0).nonzero()[1]"
   ]
  },
  {
   "cell_type": "code",
   "execution_count": 56,
   "metadata": {},
   "outputs": [],
   "source": [
    "c = np.array(A.sum(0))[0][sum_nonzero].shape[0]"
   ]
  },
  {
   "cell_type": "code",
   "execution_count": 57,
   "metadata": {},
   "outputs": [
    {
     "data": {
      "text/plain": [
       "-1.5953383059041926e-10"
      ]
     },
     "execution_count": 57,
     "metadata": {},
     "output_type": "execute_result"
    }
   ],
   "source": [
    "sum(np.array(A.sum(0))[0][sum_nonzero] - np.ones(c))"
   ]
  },
  {
   "cell_type": "code",
   "execution_count": 58,
   "metadata": {},
   "outputs": [],
   "source": [
    "from scipy.sparse.linalg import LinearOperator\n",
    "d = 0.85\n",
    "L = LinearOperator(A.shape, matvec=lambda x, A=A, d=d: pagerank_matvec(A, d, x))"
   ]
  },
  {
   "cell_type": "code",
   "execution_count": 59,
   "metadata": {},
   "outputs": [],
   "source": [
    "import matplotlib.pyplot as plt\n",
    "%matplotlib inline\n",
    "\n",
    "x0 = np.random.rand(A.shape[0])\n",
    "x, l, res = power_method(L, x0, 30)"
   ]
  },
  {
   "cell_type": "code",
   "execution_count": 62,
   "metadata": {},
   "outputs": [
    {
     "data": {
      "text/plain": [
       "<matplotlib.legend.Legend at 0x1b0d07532b0>"
      ]
     },
     "execution_count": 62,
     "metadata": {},
     "output_type": "execute_result"
    },
    {
     "data": {
      "image/png": "[encoded data removed]",
      "text/plain": [
       "<Figure size 432x288 with 1 Axes>"
      ]
     },
     "metadata": {
      "needs_background": "light"
     },
     "output_type": "display_data"
    }
   ],
   "source": [
    "plt.plot(res, color='blue', label='d=0.85')\n",
    "plt.ylabel(\"RES\")\n",
    "plt.yscale('log')\n",
    "plt.xlabel(\"n\")\n",
    "plt.title('residuals')\n",
    "plt.legend()"
   ]
  },
  {
   "cell_type": "code",
   "execution_count": 63,
   "metadata": {},
   "outputs": [
    {
     "data": {
      "text/plain": [
       "array(['Peter E. Hodges', 'William E. Payne', 'James I. Garrels',\n",
       "       'Richard M. Karp', 'John E. Hopcroft', 'Richard Lindaman',\n",
       "       'Richard A. Silverman', 'James C. Candy',\n",
       "       'Derek J. de Solla Price', 'Emil L. Post'], dtype='<U98')"
      ]
     },
     "execution_count": 63,
     "metadata": {},
     "output_type": "execute_result"
    }
   ],
   "source": [
    "authors[np.argsort(x)[-10:]]"
   ]
  },
  {
   "cell_type": "markdown",
   "metadata": {},
   "source": [
    "List of the autors differs from the top authors of a page rank. Page rank takes importance of each person citations. Power method used ones as a weight. Thus the connection between authors wasn't weighted"
   ]
  },
  {
   "cell_type": "markdown",
   "metadata": {
    "id": "hQ2vaIyMOGI3"
   },
   "source": [
    "## Problem 3. QR algorithm (33 pts)\n",
    "\n",
    "* Implement QR-algorithm without shifts. Prototype of the function is given below"
   ]
  },
  {
   "cell_type": "code",
   "execution_count": 287,
   "metadata": {
    "id": "rMHBZLojOGI3"
   },
   "outputs": [],
   "source": [
    "# INPUT: \n",
    "# A_init - square matrix, \n",
    "# num_iter - number of iterations for QR algorithm\n",
    "# OUTPUT: \n",
    "# Ak - transformed matrix A_init given by QR algorithm, \n",
    "# convergence - numpy array of shape (num_iter, ), \n",
    "# where we store the maximal number from the Chebyshev norm \n",
    "# of triangular part of the Ak for every iteration\n",
    "def qr_algorithm(A_init, num_iter): # 3 pts\n",
    "    Ak = A_init\n",
    "    convergence = np.zeros(num_iter)\n",
    "    convergence[0] = np.max(np.abs(Ak))\n",
    "    for i in range(0, num_iter):\n",
    "        Q, R = np.linalg.qr(Ak)\n",
    "        Ak = R @ Q\n",
    "        convergence[i] =np.max(np.abs(np.tril(Ak, k = -1)))\n",
    "        #convergence[i] = np.max(Ak)\n",
    "    return Ak, convergence"
   ]
  },
  {
   "cell_type": "markdown",
   "metadata": {
    "id": "UNrCBNRUOGI6"
   },
   "source": [
    "#### Symmetric case (3 pts)\n",
    "- Create symmetric tridiagonal $11 \\times 11$ matrix with elements $-1, 2, -1$ on sub-, main- and upper diagonal respectively without using loops.\n",
    "- Run $400$ iterations of the QR algorithm for this matrix.\n",
    "- Plot the output matrix with function ```plt.spy(Ak, precision=1e-7)```.\n",
    "- Plot convergence of QR-algorithm."
   ]
  },
  {
   "cell_type": "code",
   "execution_count": 288,
   "metadata": {
    "id": "NuKwQGXbOGI6"
   },
   "outputs": [],
   "source": [
    "# Your solution is here\n",
    "from scipy.sparse import diags\n",
    "\n",
    "n=11\n",
    "diag = [-1, 2, -1]\n",
    "A = diags(diag, [-1, 0, 1], shape=(n, n)).toarray()\n",
    "\n",
    "num_iter = 400\n",
    "A_init = A\n",
    "Ak, convergence = qr_algorithm(A_init, num_iter)"
   ]
  },
  {
   "cell_type": "code",
   "execution_count": 289,
   "metadata": {},
   "outputs": [
    {
     "data": {
      "text/plain": [
       "array([3.93185165, 3.73205081, 3.41421356, 3.        , 2.51763809,\n",
       "       2.        , 1.48236191, 0.06814835, 0.26794919, 0.58578644,\n",
       "       1.        ])"
      ]
     },
     "execution_count": 289,
     "metadata": {},
     "output_type": "execute_result"
    }
   ],
   "source": [
    "np.linalg.eigvals(A)"
   ]
  },
  {
   "cell_type": "code",
   "execution_count": 290,
   "metadata": {},
   "outputs": [
    {
     "data": {
      "text/plain": [
       "<matplotlib.image.AxesImage at 0x1ecc2225070>"
      ]
     },
     "execution_count": 290,
     "metadata": {},
     "output_type": "execute_result"
    },
    {
     "data": {
      "image/png": "[encoded data removed]",
      "text/plain": [
       "<Figure size 432x288 with 1 Axes>"
      ]
     },
     "metadata": {
      "needs_background": "light"
     },
     "output_type": "display_data"
    }
   ],
   "source": [
    "import matplotlib.pyplot as plt\n",
    "%matplotlib inline\n",
    "\n",
    "plt.spy(Ak, precision=1e-7)"
   ]
  },
  {
   "cell_type": "code",
   "execution_count": 291,
   "metadata": {},
   "outputs": [
    {
     "data": {
      "text/plain": [
       "<matplotlib.legend.Legend at 0x1ecc21fd280>"
      ]
     },
     "execution_count": 291,
     "metadata": {},
     "output_type": "execute_result"
    },
    {
     "data": {
      "image/png": "[encoded data removed]",
      "text/plain": [
       "<Figure size 500x500 with 1 Axes>"
      ]
     },
     "metadata": {
      "needs_background": "light"
     },
     "output_type": "display_data"
    }
   ],
   "source": [
    "fig, axs = plt.subplots(nrows=1, ncols=1, figsize=(5, 5), dpi=100)\n",
    "\n",
    "plt.plot(convergence, color='blue', label='QR, num_iter=400')\n",
    "plt.ylabel(\"Convergence\")\n",
    "plt.xlabel(\"Number of iterations\")\n",
    "plt.grid(True)\n",
    "plt.title('Plot convergence of QR-algorithm')\n",
    "plt.legend()"
   ]
  },
  {
   "cell_type": "markdown",
   "metadata": {
    "id": "-lomV2K-OGI8"
   },
   "source": [
    "#### Nonsymmetric case (5 pts)\n",
    "\n",
    "- Create nonsymmetric tridiagonal $11 \\times 11$ matrix with elements $5, 3, -2$ on sub-, main- and upper diagonal respectively without using loops.\n",
    "- Run $250$ iterations of the QR algorithm for this matrix.\n",
    "- Plot the result matrix with function ```plt.spy(Ak, precision=1e-7)```. Is this matrix lower triangular? How does this correspond to the claim about convergence of the QR algorithm?"
   ]
  },
  {
   "cell_type": "code",
   "execution_count": 292,
   "metadata": {
    "id": "C2lGBHjaOGI9"
   },
   "outputs": [],
   "source": [
    "# Your solution is here\n",
    "n=11\n",
    "diag = [5, 3, -2]\n",
    "A = diags(diag, [-1, 0, 1], shape=(n, n)).toarray()\n",
    "\n",
    "num_iter = 250\n",
    "A_init = A\n",
    "Ak, convergence = qr_algorithm(A_init, num_iter)"
   ]
  },
  {
   "cell_type": "code",
   "execution_count": 293,
   "metadata": {},
   "outputs": [
    {
     "data": {
      "text/plain": [
       "<matplotlib.image.AxesImage at 0x1ecc22e33a0>"
      ]
     },
     "execution_count": 293,
     "metadata": {},
     "output_type": "execute_result"
    },
    {
     "data": {
      "image/png": "[encoded data removed]",
      "text/plain": [
       "<Figure size 432x288 with 1 Axes>"
      ]
     },
     "metadata": {
      "needs_background": "light"
     },
     "output_type": "display_data"
    }
   ],
   "source": [
    "import matplotlib.pyplot as plt\n",
    "%matplotlib inline\n",
    "\n",
    "plt.spy(Ak, precision=1e-7)"
   ]
  },
  {
   "cell_type": "code",
   "execution_count": 294,
   "metadata": {},
   "outputs": [
    {
     "data": {
      "text/plain": [
       "<matplotlib.legend.Legend at 0x1ecc21a7190>"
      ]
     },
     "execution_count": 294,
     "metadata": {},
     "output_type": "execute_result"
    },
    {
     "data": {
      "image/png": "[encoded data removed]",
      "text/plain": [
       "<Figure size 500x500 with 1 Axes>"
      ]
     },
     "metadata": {
      "needs_background": "light"
     },
     "output_type": "display_data"
    }
   ],
   "source": [
    "fig, axs = plt.subplots(nrows=1, ncols=1, figsize=(5, 5), dpi=100)\n",
    "\n",
    "plt.plot(convergence, color='blue', label='QR, num_iter=250')\n",
    "plt.ylabel(\"Convergence\")\n",
    "plt.xlabel(\"Number of iterations\")\n",
    "plt.grid(True)\n",
    "plt.title('Plot convergence of QR-algorithm')\n",
    "plt.legend()"
   ]
  },
  {
   "cell_type": "markdown",
   "metadata": {},
   "source": [
    "### QR algorithms with Rayleigh Quotient shift (10 pts)\n",
    "\n",
    "In the lectures the Rayleigh Quotient shift was introduced to speed up convergence of power method. Here we ask you to generalize this approach to construct the shifts in QR algorithm.\n",
    "\n",
    "- How to compute the Rayleigh Quotient shift in QR algorithm fast? Provide formulas and explanations how they can be simplified.\n",
    "- Implement explicit QR algorithm with Rayleigh Quotient shift. Please do not worry about implicit orthogonalization, we want to compare convergence only in terms of iterations.\n",
    "- Test your implementation in the symmetric case. Plot the convergence of QR algorithm with and without shift. Choose the dimension $n \\sim 100 $ for more representative results. \n",
    "- How the convergence of the shifted algorithm compares to the simple QR? Why? "
   ]
  },
  {
   "cell_type": "markdown",
   "metadata": {},
   "source": [
    "QR algirithm with shift looks like the following\n",
    "$$ A_k - s_kI=Q_k R_k $$\n",
    "$$ A_{k+1} = R_k Q_k +s_k I $$"
   ]
  },
  {
   "cell_type": "markdown",
   "metadata": {},
   "source": [
    "Convergence depends on the ratio between the eigenvalues. In shifted QR algorithm we have different ratio as in standart QR alg\n",
    "$$ |\\frac{\\lambda_{m+1}-s_k}{\\lambda_{m}-s_k} |$$\n"
   ]
  },
  {
   "cell_type": "code",
   "execution_count": 321,
   "metadata": {},
   "outputs": [],
   "source": [
    "def qr_algorithm_reileigh(A_init, num_iter): \n",
    "    # enter your code here\n",
    "    Ak = A_init \n",
    "    n = Ak.shape[0]\n",
    "    convergence = np.zeros(num_iter)\n",
    "    convergence[0] = np.max(np.abs(Ak)) \n",
    "    for k in range(1, num_iter):\n",
    "        lam = Ak[-1, -1]\n",
    "        Qk, Rk = np.linalg.qr(Ak - lam * np.identity(n))\n",
    "        \n",
    "        Ak = Qk.T @ Ak @ Qk\n",
    "        \n",
    "        zero_off_diag = np.tril(Ak,k=-1)\n",
    "        zero_off_diag = zero_off_diag*(zero_off_diag>10**(-10))\n",
    "        Ak = np.triu(A)+zero_off_diag\n",
    "        \n",
    "        convergence[k] = np.max(np.abs(np.tril(Ak, k = -1)))\n",
    "    return Ak, convergence\n",
    "\n"
   ]
  },
  {
   "cell_type": "code",
   "execution_count": 322,
   "metadata": {},
   "outputs": [],
   "source": [
    "# symmetric case\n",
    "n=100\n",
    "diag = [-1, 2, -1]\n",
    "A = diags(diag, [-1, 0, 1], shape=(n, n)).toarray()\n",
    "\n",
    "num_iter = 200\n",
    "A_init = A\n",
    "Ak1, convergence1 = qr_algorithm(A_init, num_iter)"
   ]
  },
  {
   "cell_type": "code",
   "execution_count": 323,
   "metadata": {},
   "outputs": [
    {
     "data": {
      "text/plain": [
       "<matplotlib.image.AxesImage at 0x1ecc1bd4700>"
      ]
     },
     "execution_count": 323,
     "metadata": {},
     "output_type": "execute_result"
    },
    {
     "data": {
      "image/png": "[encoded data removed]",
      "text/plain": [
       "<Figure size 432x288 with 1 Axes>"
      ]
     },
     "metadata": {
      "needs_background": "light"
     },
     "output_type": "display_data"
    }
   ],
   "source": [
    "plt.spy(Ak1, precision=1e-7)"
   ]
  },
  {
   "cell_type": "code",
   "execution_count": 324,
   "metadata": {},
   "outputs": [
    {
     "data": {
      "text/plain": [
       "<matplotlib.legend.Legend at 0x1ecc1d15820>"
      ]
     },
     "execution_count": 324,
     "metadata": {},
     "output_type": "execute_result"
    },
    {
     "data": {
      "image/png": "[encoded data removed]",
      "text/plain": [
       "<Figure size 500x500 with 1 Axes>"
      ]
     },
     "metadata": {
      "needs_background": "light"
     },
     "output_type": "display_data"
    }
   ],
   "source": [
    "fig, axs = plt.subplots(nrows=1, ncols=1, figsize=(5, 5), dpi=100)\n",
    "\n",
    "plt.plot(convergence1, color='blue', label='QR, num_iter=200')\n",
    "plt.ylabel(\"Convergence\")\n",
    "plt.xlabel(\"Number of iterations\")\n",
    "plt.grid(True)\n",
    "plt.title('Plot convergence of QR-algorithm')\n",
    "plt.legend()"
   ]
  },
  {
   "cell_type": "code",
   "execution_count": 325,
   "metadata": {},
   "outputs": [],
   "source": [
    "# symmetric case reileigh\n",
    "n=100\n",
    "diag = [-1, 2, -1]\n",
    "A = diags(diag, [-1, 0, 1], shape=(n, n)).toarray()\n",
    "\n",
    "num_iter = 200\n",
    "A_init = A\n",
    "Ak, convergence = qr_algorithm_reileigh(A_init, num_iter)"
   ]
  },
  {
   "cell_type": "code",
   "execution_count": 326,
   "metadata": {},
   "outputs": [
    {
     "data": {
      "text/plain": [
       "<matplotlib.image.AxesImage at 0x1ecc578b0d0>"
      ]
     },
     "execution_count": 326,
     "metadata": {},
     "output_type": "execute_result"
    },
    {
     "data": {
      "image/png": "[encoded data removed]",
      "text/plain": [
       "<Figure size 432x288 with 1 Axes>"
      ]
     },
     "metadata": {
      "needs_background": "light"
     },
     "output_type": "display_data"
    }
   ],
   "source": [
    "plt.spy(Ak, precision=1e-7)"
   ]
  },
  {
   "cell_type": "code",
   "execution_count": 327,
   "metadata": {},
   "outputs": [
    {
     "data": {
      "text/plain": [
       "<matplotlib.legend.Legend at 0x1ecc57b40a0>"
      ]
     },
     "execution_count": 327,
     "metadata": {},
     "output_type": "execute_result"
    },
    {
     "data": {
      "image/png": "[encoded data removed]",
      "text/plain": [
       "<Figure size 500x500 with 1 Axes>"
      ]
     },
     "metadata": {
      "needs_background": "light"
     },
     "output_type": "display_data"
    }
   ],
   "source": [
    "fig, axs = plt.subplots(nrows=1, ncols=1, figsize=(5, 5), dpi=100)\n",
    "\n",
    "plt.plot(convergence, color='blue', label='QR, num_iter=200')\n",
    "plt.ylabel(\"Convergence\")\n",
    "plt.xlabel(\"Number of iterations\")\n",
    "plt.grid(True)\n",
    "plt.title('Plot convergence of QR-algorithm with shifts')\n",
    "plt.legend()"
   ]
  },
  {
   "cell_type": "markdown",
   "metadata": {},
   "source": [
    "- Try QR with Rayleigh Quotient shift for a simple matrix $A = \\begin{bmatrix}\n",
    "0 & 1 \\\\\n",
    "1 & 0\n",
    "\\end{bmatrix}$. Does anything change from iteration to iteration? Does shift affect convergence here? Why?"
   ]
  },
  {
   "cell_type": "code",
   "execution_count": 328,
   "metadata": {},
   "outputs": [],
   "source": [
    "A = np.array([[0,1],[1,0]])\n",
    "\n",
    "num_iter = 200\n",
    "A_init = A\n",
    "Ak, convergence = qr_algorithm_reileigh(A_init, num_iter)"
   ]
  },
  {
   "cell_type": "code",
   "execution_count": 329,
   "metadata": {},
   "outputs": [
    {
     "data": {
      "text/plain": [
       "<matplotlib.legend.Legend at 0x1ecc57d1790>"
      ]
     },
     "execution_count": 329,
     "metadata": {},
     "output_type": "execute_result"
    },
    {
     "data": {
      "image/png": "[encoded data removed]",
      "text/plain": [
       "<Figure size 500x500 with 1 Axes>"
      ]
     },
     "metadata": {
      "needs_background": "light"
     },
     "output_type": "display_data"
    }
   ],
   "source": [
    "fig, axs = plt.subplots(nrows=1, ncols=1, figsize=(5, 5), dpi=100)\n",
    "\n",
    "plt.plot(convergence, color='blue', label='QR, num_iter=200')\n",
    "plt.ylabel(\"Convergence\")\n",
    "plt.xlabel(\"Number of iterations\")\n",
    "plt.grid(True)\n",
    "plt.title('Plot convergence of QR-algorithm with shifts')\n",
    "plt.legend()"
   ]
  },
  {
   "cell_type": "code",
   "execution_count": 330,
   "metadata": {},
   "outputs": [
    {
     "data": {
      "text/plain": [
       "<matplotlib.image.AxesImage at 0x1ecc58533a0>"
      ]
     },
     "execution_count": 330,
     "metadata": {},
     "output_type": "execute_result"
    },
    {
     "data": {
      "image/png": "[encoded data removed]",
      "text/plain": [
       "<Figure size 432x288 with 1 Axes>"
      ]
     },
     "metadata": {
      "needs_background": "light"
     },
     "output_type": "display_data"
    }
   ],
   "source": [
    "plt.spy(Ak, precision=1e-7)"
   ]
  },
  {
   "cell_type": "markdown",
   "metadata": {},
   "source": [
    "As it is clearly seen from the convergence plot, this matrix is doesnt converge. It doesn't converge because we take last entry as shift and it is equal to zero"
   ]
  },
  {
   "cell_type": "markdown",
   "metadata": {},
   "source": [
    "### QR with Wilkinson shift  (15 pts)\n",
    "\n",
    "To solve the problem that appears in the last example, we can use the Wilkinson shift:\n",
    "\n",
    "$$\\mu = a_m - \\frac {sign(\\delta) b^2_{m-1}} {(|\\delta| + \\sqrt{\\delta^2 + b^2_{m-1}} )},$$\n",
    "\n",
    "where $\\delta = \\frac{(a_{m-1} - a_m)}{2}$. If $\\delta = 0$, then instead of $sign(\\delta)$ you have to choose $1$ or $-1$ arbitrary.\n",
    "The numbers $a_m, b_{m-1}, a_{m-1}$ are taken from matrix $B$:\n",
    "\n",
    "$$\n",
    "    B = \n",
    "    \\begin{bmatrix} \n",
    "     a_{m-1} & b_{m-1} \\\\ \n",
    "     b_{m-1} & a_m \\\\ \n",
    "    \\end{bmatrix},\n",
    "$$  \n",
    "which is a lower right bottom submatrix of $A^{(k)}$. Here $k$ is an iteration counter in QR algorithm.\n",
    "\n",
    "- Compare convergence in the symmetric cases: \n",
    "    - distinctive eigenvalues\n",
    "    - two coincident eigenvalues\n",
    "    - maximum and minimum eigenvalues with the same absolute value\n",
    "Choose the dimension $n \\sim 100 $ for more representative results.\n",
    "What do you observe? "
   ]
  },
  {
   "cell_type": "code",
   "execution_count": 331,
   "metadata": {},
   "outputs": [],
   "source": [
    "def qr_algorithm_wilkinson(A_init, num_iter):\n",
    "    Ak = A_init \n",
    "    m,n = Ak.shape\n",
    "    \n",
    "    \n",
    "    convergence = np.zeros(num_iter)\n",
    "    convergence[0] = np.max(np.abs(Ak)) \n",
    "    \n",
    "    m = -1\n",
    "    mu = 0    \n",
    "    for k in range(1, num_iter):\n",
    "        mu_matrix = np.eye(Ak.shape[0]) * mu\n",
    "        Q, R = np.linalg.qr(Ak -  mu_matrix)\n",
    "        Ak = Q.T @ Ak @ Q\n",
    "        \n",
    "        zero_off_diag = np.tril(Ak,k=-1)\n",
    "        zero_off_diag = zero_off_diag*(zero_off_diag>10**(-10))\n",
    "        Ak = np.triu(A)+zero_off_diag\n",
    "        \n",
    "        #convergence[k] = np.linalg.norm(Ak, ord=np.inf)\n",
    "        convergence[k] = np.max(np.abs(np.tril(Ak, k = -1)))\n",
    "        delta = (Ak[m - 1, m - 1] - Ak[m, m]) / 2\n",
    "        if delta == 0:\n",
    "             mu = Ak[m, m] - 1 * (Ak[m, m - 1])**2 / \\\n",
    "             (np.abs(delta) + np.linalg.norm([delta, Ak[m, m - 1]]))\n",
    "        else:\n",
    "            mu = Ak[m, m] - np.sign(delta) * (Ak[m, m - 1])**2 / \\\n",
    "             (np.abs(delta) + np.linalg.norm([delta, Ak[m, m - 1]]))\n",
    "        \n",
    "        \n",
    "    return Ak, convergence\n",
    "\n",
    "\n",
    " "
   ]
  },
  {
   "cell_type": "code",
   "execution_count": 332,
   "metadata": {},
   "outputs": [],
   "source": [
    "diag = [-1, 2, -1]\n",
    "A = diags(diag, [-1, 0, 1], shape=(n, n)).toarray()\n"
   ]
  },
  {
   "cell_type": "code",
   "execution_count": 333,
   "metadata": {},
   "outputs": [
    {
     "name": "stderr",
     "output_type": "stream",
     "text": [
      "<ipython-input-331-24dedbb9a115>:24: RuntimeWarning: invalid value encountered in double_scalars\n",
      "  mu = Ak[m, m] - 1 * (Ak[m, m - 1])**2 / \\\n"
     ]
    }
   ],
   "source": [
    "# distinctive eigenvalues\n",
    "diag = [-1, 2, -1]\n",
    "A = diags(diag, [-1, 0, 1], shape=(n, n)).toarray()\n",
    "\n",
    "num_iter = 50\n",
    "A_init = A\n",
    "Ak, convergence = qr_algorithm_wilkinson(A_init, num_iter)\n",
    "Ak1, convergence1 = qr_algorithm(A_init, num_iter)\n",
    "Ak3, convergence3 = qr_algorithm_reileigh(A_init, num_iter)"
   ]
  },
  {
   "cell_type": "code",
   "execution_count": 334,
   "metadata": {},
   "outputs": [
    {
     "data": {
      "text/plain": [
       "<matplotlib.legend.Legend at 0x1ecc26eda60>"
      ]
     },
     "execution_count": 334,
     "metadata": {},
     "output_type": "execute_result"
    },
    {
     "data": {
      "image/png": "[encoded data removed]",
      "text/plain": [
       "<Figure size 500x500 with 1 Axes>"
      ]
     },
     "metadata": {
      "needs_background": "light"
     },
     "output_type": "display_data"
    }
   ],
   "source": [
    "# distinctive eigenvalues\n",
    "fig, axs = plt.subplots(nrows=1, ncols=1, figsize=(5, 5), dpi=100)\n",
    "\n",
    "plt.plot(convergence, color='blue', label='Wilkinson')\n",
    "#plt.plot(convergence1, color='red', label='QR usual')\n",
    "#plt.plot(convergence3, color='green', label='QR reileigh')\n",
    "plt.ylabel(\"Convergence\")\n",
    "plt.xlabel(\"Number of iterations\")\n",
    "plt.grid(True)\n",
    "plt.title('Plot convergence of QR-algorithm with wilkinson shift')\n",
    "plt.legend()"
   ]
  },
  {
   "cell_type": "code",
   "execution_count": 335,
   "metadata": {},
   "outputs": [],
   "source": [
    "# Your solution is here"
   ]
  },
  {
   "cell_type": "markdown",
   "metadata": {
    "id": "c_8OYe7wOGI-"
   },
   "source": [
    "## Problem 4. (Movie Recommender system) 15 pts\n",
    "\n",
    "Imagine the world without NLA where you have free evenings and you can watch movies!  \n",
    "But it is always hard to choose a movie to watch. \n",
    "In this problem we suggest you to build your own movie recommender system based on SVD decomposition, so you can combine two perfect things: Numerical Linear Algebra and cinematography!"
   ]
  },
  {
   "cell_type": "markdown",
   "metadata": {
    "id": "W2duSA-Su7CI"
   },
   "source": [
    "In order to build recommender system you need data. \n",
    "Here you are https://grouplens.org/datasets/movielens/1m/\n",
    "\n",
    "Usually all recommender systems may be devided into two groups\n",
    "\n",
    "#### Collaborative filtering. \n",
    "\n",
    "This approach is based on user-item interaction.\n",
    "It has one important assumption: user who has liked an item in the past will also likes the same in the future. Suppose the user A likes the films about vampires. \n",
    "He is Twilight saga fan and he has watched the film \"What we do in the shadows\" and liked it or unliked it, in other words he evaluated it somehow. And suppose another user B, who has the similair behavior to the first user (he is also Twilight saga fan). And the chance, that he will estimate \"What we do in the shadows\" in the same way that user A did, is huge. So, the purpose of the collaborative filtering is to predict a user's behavior based on behavior of the simular users.\n",
    "\n",
    "#### Content based filtering.\n",
    "\n",
    "Collaborative filtering has some essential flaws. The main one is called \"cold start\". \"Cold start\" happens when the new user comes and he has not react anyhow to the items. So we do not know his past behavior and we do not know what to advise. Here content based filtering helps. Often resources gather some extra info about users and items before a user comes down to utilising the resource. So, for example we would know that user likes horror movies before he watched anything on the resource."
   ]
  },
  {
   "cell_type": "markdown",
   "metadata": {
    "id": "mMvQV1zSu7Cg"
   },
   "source": [
    "\n",
    "- In this task you will implement Collaborative filtering based on SVD (we will use the function from the proper package and check if the result recommender system advices the similar movies)"
   ]
  },
  {
   "cell_type": "markdown",
   "metadata": {
    "id": "tMN7EK6gu7Ch"
   },
   "source": [
    "1) (1 pts)  Explore the data. Construct the interaction matrix $M$ of size $m \\times n$ which contains the information of how a certain user rated a certain film. \n",
    "\n",
    "2) (5 pts)  Compute SVD of this matrix. Remeber that matrix $M$ is sparse (one user can hardly watch all the movies) so the good choice would be to use method from ```scipy.sparse.linalg``` package\n",
    "\n",
    "$$ M = USV^{\\top}, $$\n",
    "\n",
    "where $U$ is a $m \\times r $ orthogonal matrix with left singular vectors, which represents the relationship between users and latent factors, $S$ is a $r \\times r $ diagonal matrix, which describes the strength of each latent factor and $V^\\top$ is a $r \\times n$ matrix with right singular vectors, which represent the embeddings of  items (movies in our case) in latent space.\n",
    "Describe any simple heuristic to choose appropriate value for $r$ and explain why do you expect that it will work.\n"
   ]
  },
  {
   "cell_type": "code",
   "execution_count": 313,
   "metadata": {
    "id": "qxYtnm7au7Ci"
   },
   "outputs": [
    {
     "name": "stderr",
     "output_type": "stream",
     "text": [
      "<ipython-input-313-2c6322e8d809>:6: ParserWarning: Falling back to the 'python' engine because the 'c' engine does not support regex separators (separators > 1 char and different from '\\s+' are interpreted as regex); you can avoid this warning by specifying engine='python'.\n",
      "  movies = pd.read_table(\"movies.dat\",header=None,sep='::')\n",
      "<ipython-input-313-2c6322e8d809>:8: ParserWarning: Falling back to the 'python' engine because the 'c' engine does not support regex separators (separators > 1 char and different from '\\s+' are interpreted as regex); you can avoid this warning by specifying engine='python'.\n",
      "  ratings = pd.read_table(\"ratings.dat\",header=None,sep='::')\n",
      "<ipython-input-313-2c6322e8d809>:10: ParserWarning: Falling back to the 'python' engine because the 'c' engine does not support regex separators (separators > 1 char and different from '\\s+' are interpreted as regex); you can avoid this warning by specifying engine='python'.\n",
      "  users = pd.read_table(\"users.dat\",header=None,sep='::')\n"
     ]
    },
    {
     "data": {
      "text/html": [
       "<div>\n",
       "<style scoped>\n",
       "    .dataframe tbody tr th:only-of-type {\n",
       "        vertical-align: middle;\n",
       "    }\n",
       "\n",
       "    .dataframe tbody tr th {\n",
       "        vertical-align: top;\n",
       "    }\n",
       "\n",
       "    .dataframe thead th {\n",
       "        text-align: right;\n",
       "    }\n",
       "</style>\n",
       "<table border=\"1\" class=\"dataframe\">\n",
       "  <thead>\n",
       "    <tr style=\"text-align: right;\">\n",
       "      <th>MovieID</th>\n",
       "      <th>1</th>\n",
       "      <th>2</th>\n",
       "      <th>3</th>\n",
       "      <th>4</th>\n",
       "      <th>5</th>\n",
       "      <th>6</th>\n",
       "      <th>7</th>\n",
       "      <th>8</th>\n",
       "      <th>9</th>\n",
       "      <th>10</th>\n",
       "      <th>...</th>\n",
       "      <th>3943</th>\n",
       "      <th>3944</th>\n",
       "      <th>3945</th>\n",
       "      <th>3946</th>\n",
       "      <th>3947</th>\n",
       "      <th>3948</th>\n",
       "      <th>3949</th>\n",
       "      <th>3950</th>\n",
       "      <th>3951</th>\n",
       "      <th>3952</th>\n",
       "    </tr>\n",
       "    <tr>\n",
       "      <th>UserID</th>\n",
       "      <th></th>\n",
       "      <th></th>\n",
       "      <th></th>\n",
       "      <th></th>\n",
       "      <th></th>\n",
       "      <th></th>\n",
       "      <th></th>\n",
       "      <th></th>\n",
       "      <th></th>\n",
       "      <th></th>\n",
       "      <th></th>\n",
       "      <th></th>\n",
       "      <th></th>\n",
       "      <th></th>\n",
       "      <th></th>\n",
       "      <th></th>\n",
       "      <th></th>\n",
       "      <th></th>\n",
       "      <th></th>\n",
       "      <th></th>\n",
       "      <th></th>\n",
       "    </tr>\n",
       "  </thead>\n",
       "  <tbody>\n",
       "    <tr>\n",
       "      <th>1</th>\n",
       "      <td>5.0</td>\n",
       "      <td>0.0</td>\n",
       "      <td>0.0</td>\n",
       "      <td>0.0</td>\n",
       "      <td>0.0</td>\n",
       "      <td>0.0</td>\n",
       "      <td>0.0</td>\n",
       "      <td>0.0</td>\n",
       "      <td>0.0</td>\n",
       "      <td>0.0</td>\n",
       "      <td>...</td>\n",
       "      <td>0.0</td>\n",
       "      <td>0.0</td>\n",
       "      <td>0.0</td>\n",
       "      <td>0.0</td>\n",
       "      <td>0.0</td>\n",
       "      <td>0.0</td>\n",
       "      <td>0.0</td>\n",
       "      <td>0.0</td>\n",
       "      <td>0.0</td>\n",
       "      <td>0.0</td>\n",
       "    </tr>\n",
       "    <tr>\n",
       "      <th>2</th>\n",
       "      <td>0.0</td>\n",
       "      <td>0.0</td>\n",
       "      <td>0.0</td>\n",
       "      <td>0.0</td>\n",
       "      <td>0.0</td>\n",
       "      <td>0.0</td>\n",
       "      <td>0.0</td>\n",
       "      <td>0.0</td>\n",
       "      <td>0.0</td>\n",
       "      <td>0.0</td>\n",
       "      <td>...</td>\n",
       "      <td>0.0</td>\n",
       "      <td>0.0</td>\n",
       "      <td>0.0</td>\n",
       "      <td>0.0</td>\n",
       "      <td>0.0</td>\n",
       "      <td>0.0</td>\n",
       "      <td>0.0</td>\n",
       "      <td>0.0</td>\n",
       "      <td>0.0</td>\n",
       "      <td>0.0</td>\n",
       "    </tr>\n",
       "    <tr>\n",
       "      <th>3</th>\n",
       "      <td>0.0</td>\n",
       "      <td>0.0</td>\n",
       "      <td>0.0</td>\n",
       "      <td>0.0</td>\n",
       "      <td>0.0</td>\n",
       "      <td>0.0</td>\n",
       "      <td>0.0</td>\n",
       "      <td>0.0</td>\n",
       "      <td>0.0</td>\n",
       "      <td>0.0</td>\n",
       "      <td>...</td>\n",
       "      <td>0.0</td>\n",
       "      <td>0.0</td>\n",
       "      <td>0.0</td>\n",
       "      <td>0.0</td>\n",
       "      <td>0.0</td>\n",
       "      <td>0.0</td>\n",
       "      <td>0.0</td>\n",
       "      <td>0.0</td>\n",
       "      <td>0.0</td>\n",
       "      <td>0.0</td>\n",
       "    </tr>\n",
       "    <tr>\n",
       "      <th>4</th>\n",
       "      <td>0.0</td>\n",
       "      <td>0.0</td>\n",
       "      <td>0.0</td>\n",
       "      <td>0.0</td>\n",
       "      <td>0.0</td>\n",
       "      <td>0.0</td>\n",
       "      <td>0.0</td>\n",
       "      <td>0.0</td>\n",
       "      <td>0.0</td>\n",
       "      <td>0.0</td>\n",
       "      <td>...</td>\n",
       "      <td>0.0</td>\n",
       "      <td>0.0</td>\n",
       "      <td>0.0</td>\n",
       "      <td>0.0</td>\n",
       "      <td>0.0</td>\n",
       "      <td>0.0</td>\n",
       "      <td>0.0</td>\n",
       "      <td>0.0</td>\n",
       "      <td>0.0</td>\n",
       "      <td>0.0</td>\n",
       "    </tr>\n",
       "    <tr>\n",
       "      <th>5</th>\n",
       "      <td>0.0</td>\n",
       "      <td>0.0</td>\n",
       "      <td>0.0</td>\n",
       "      <td>0.0</td>\n",
       "      <td>0.0</td>\n",
       "      <td>2.0</td>\n",
       "      <td>0.0</td>\n",
       "      <td>0.0</td>\n",
       "      <td>0.0</td>\n",
       "      <td>0.0</td>\n",
       "      <td>...</td>\n",
       "      <td>0.0</td>\n",
       "      <td>0.0</td>\n",
       "      <td>0.0</td>\n",
       "      <td>0.0</td>\n",
       "      <td>0.0</td>\n",
       "      <td>0.0</td>\n",
       "      <td>0.0</td>\n",
       "      <td>0.0</td>\n",
       "      <td>0.0</td>\n",
       "      <td>0.0</td>\n",
       "    </tr>\n",
       "  </tbody>\n",
       "</table>\n",
       "<p>5 rows × 3706 columns</p>\n",
       "</div>"
      ],
      "text/plain": [
       "MovieID  1     2     3     4     5     6     7     8     9     10    ...  \\\n",
       "UserID                                                               ...   \n",
       "1         5.0   0.0   0.0   0.0   0.0   0.0   0.0   0.0   0.0   0.0  ...   \n",
       "2         0.0   0.0   0.0   0.0   0.0   0.0   0.0   0.0   0.0   0.0  ...   \n",
       "3         0.0   0.0   0.0   0.0   0.0   0.0   0.0   0.0   0.0   0.0  ...   \n",
       "4         0.0   0.0   0.0   0.0   0.0   0.0   0.0   0.0   0.0   0.0  ...   \n",
       "5         0.0   0.0   0.0   0.0   0.0   2.0   0.0   0.0   0.0   0.0  ...   \n",
       "\n",
       "MovieID  3943  3944  3945  3946  3947  3948  3949  3950  3951  3952  \n",
       "UserID                                                               \n",
       "1         0.0   0.0   0.0   0.0   0.0   0.0   0.0   0.0   0.0   0.0  \n",
       "2         0.0   0.0   0.0   0.0   0.0   0.0   0.0   0.0   0.0   0.0  \n",
       "3         0.0   0.0   0.0   0.0   0.0   0.0   0.0   0.0   0.0   0.0  \n",
       "4         0.0   0.0   0.0   0.0   0.0   0.0   0.0   0.0   0.0   0.0  \n",
       "5         0.0   0.0   0.0   0.0   0.0   0.0   0.0   0.0   0.0   0.0  \n",
       "\n",
       "[5 rows x 3706 columns]"
      ]
     },
     "execution_count": 313,
     "metadata": {},
     "output_type": "execute_result"
    }
   ],
   "source": [
    "# Importing Libraries\n",
    "import numpy as np\n",
    "import pandas as pd\n",
    "\n",
    "# Read the dataset\n",
    "movies = pd.read_table(\"movies.dat\",header=None,sep='::')\n",
    "movies.columns= ['MovieID', 'Title', 'Genres']\n",
    "ratings = pd.read_table(\"ratings.dat\",header=None,sep='::')\n",
    "ratings.columns= ['UserID', 'MovieID', 'Rating', 'Timestamp']\n",
    "users = pd.read_table(\"users.dat\",header=None,sep='::')\n",
    "# Create the interaction matrix\n",
    "M_non_norm = ratings.pivot(index = 'UserID', columns ='MovieID', values = 'Rating').fillna(0)\n",
    "M_non_norm.head()\n",
    "# Normalize the matrix\n",
    "#M = M_non_norm.values\n",
    "#mean_rating = np.mean(M, axis = 1)\n",
    "#M = M - mean_rating.reshape(-1, 1)"
   ]
  },
  {
   "cell_type": "code",
   "execution_count": 314,
   "metadata": {},
   "outputs": [],
   "source": [
    "my_rec = movies.query('Genres == \"Action|Sci-Fi|Thriller\" ')"
   ]
  },
  {
   "cell_type": "code",
   "execution_count": 315,
   "metadata": {},
   "outputs": [
    {
     "data": {
      "text/html": [
       "<div>\n",
       "<style scoped>\n",
       "    .dataframe tbody tr th:only-of-type {\n",
       "        vertical-align: middle;\n",
       "    }\n",
       "\n",
       "    .dataframe tbody tr th {\n",
       "        vertical-align: top;\n",
       "    }\n",
       "\n",
       "    .dataframe thead th {\n",
       "        text-align: right;\n",
       "    }\n",
       "</style>\n",
       "<table border=\"1\" class=\"dataframe\">\n",
       "  <thead>\n",
       "    <tr style=\"text-align: right;\">\n",
       "      <th></th>\n",
       "      <th>MovieID</th>\n",
       "      <th>Title</th>\n",
       "      <th>Genres</th>\n",
       "    </tr>\n",
       "  </thead>\n",
       "  <tbody>\n",
       "    <tr>\n",
       "      <th>170</th>\n",
       "      <td>172</td>\n",
       "      <td>Johnny Mnemonic (1995)</td>\n",
       "      <td>Action|Sci-Fi|Thriller</td>\n",
       "    </tr>\n",
       "    <tr>\n",
       "      <th>283</th>\n",
       "      <td>286</td>\n",
       "      <td>Nemesis 2: Nebula (1995)</td>\n",
       "      <td>Action|Sci-Fi|Thriller</td>\n",
       "    </tr>\n",
       "    <tr>\n",
       "      <th>585</th>\n",
       "      <td>589</td>\n",
       "      <td>Terminator 2: Judgment Day (1991)</td>\n",
       "      <td>Action|Sci-Fi|Thriller</td>\n",
       "    </tr>\n",
       "    <tr>\n",
       "      <th>683</th>\n",
       "      <td>692</td>\n",
       "      <td>Solo (1996)</td>\n",
       "      <td>Action|Sci-Fi|Thriller</td>\n",
       "    </tr>\n",
       "    <tr>\n",
       "      <th>738</th>\n",
       "      <td>748</td>\n",
       "      <td>Arrival, The (1996)</td>\n",
       "      <td>Action|Sci-Fi|Thriller</td>\n",
       "    </tr>\n",
       "    <tr>\n",
       "      <th>1024</th>\n",
       "      <td>1037</td>\n",
       "      <td>Lawnmower Man, The (1992)</td>\n",
       "      <td>Action|Sci-Fi|Thriller</td>\n",
       "    </tr>\n",
       "    <tr>\n",
       "      <th>1220</th>\n",
       "      <td>1240</td>\n",
       "      <td>Terminator, The (1984)</td>\n",
       "      <td>Action|Sci-Fi|Thriller</td>\n",
       "    </tr>\n",
       "    <tr>\n",
       "      <th>1533</th>\n",
       "      <td>1573</td>\n",
       "      <td>Face/Off (1997)</td>\n",
       "      <td>Action|Sci-Fi|Thriller</td>\n",
       "    </tr>\n",
       "    <tr>\n",
       "      <th>1763</th>\n",
       "      <td>1831</td>\n",
       "      <td>Lost in Space (1998)</td>\n",
       "      <td>Action|Sci-Fi|Thriller</td>\n",
       "    </tr>\n",
       "    <tr>\n",
       "      <th>2502</th>\n",
       "      <td>2571</td>\n",
       "      <td>Matrix, The (1999)</td>\n",
       "      <td>Action|Sci-Fi|Thriller</td>\n",
       "    </tr>\n",
       "    <tr>\n",
       "      <th>2531</th>\n",
       "      <td>2600</td>\n",
       "      <td>eXistenZ (1999)</td>\n",
       "      <td>Action|Sci-Fi|Thriller</td>\n",
       "    </tr>\n",
       "    <tr>\n",
       "      <th>2653</th>\n",
       "      <td>2722</td>\n",
       "      <td>Deep Blue Sea (1999)</td>\n",
       "      <td>Action|Sci-Fi|Thriller</td>\n",
       "    </tr>\n",
       "    <tr>\n",
       "      <th>3458</th>\n",
       "      <td>3527</td>\n",
       "      <td>Predator (1987)</td>\n",
       "      <td>Action|Sci-Fi|Thriller</td>\n",
       "    </tr>\n",
       "    <tr>\n",
       "      <th>3628</th>\n",
       "      <td>3697</td>\n",
       "      <td>Predator 2 (1990)</td>\n",
       "      <td>Action|Sci-Fi|Thriller</td>\n",
       "    </tr>\n",
       "  </tbody>\n",
       "</table>\n",
       "</div>"
      ],
      "text/plain": [
       "      MovieID                              Title                  Genres\n",
       "170       172             Johnny Mnemonic (1995)  Action|Sci-Fi|Thriller\n",
       "283       286           Nemesis 2: Nebula (1995)  Action|Sci-Fi|Thriller\n",
       "585       589  Terminator 2: Judgment Day (1991)  Action|Sci-Fi|Thriller\n",
       "683       692                        Solo (1996)  Action|Sci-Fi|Thriller\n",
       "738       748                Arrival, The (1996)  Action|Sci-Fi|Thriller\n",
       "1024     1037          Lawnmower Man, The (1992)  Action|Sci-Fi|Thriller\n",
       "1220     1240             Terminator, The (1984)  Action|Sci-Fi|Thriller\n",
       "1533     1573                    Face/Off (1997)  Action|Sci-Fi|Thriller\n",
       "1763     1831               Lost in Space (1998)  Action|Sci-Fi|Thriller\n",
       "2502     2571                 Matrix, The (1999)  Action|Sci-Fi|Thriller\n",
       "2531     2600                    eXistenZ (1999)  Action|Sci-Fi|Thriller\n",
       "2653     2722               Deep Blue Sea (1999)  Action|Sci-Fi|Thriller\n",
       "3458     3527                    Predator (1987)  Action|Sci-Fi|Thriller\n",
       "3628     3697                  Predator 2 (1990)  Action|Sci-Fi|Thriller"
      ]
     },
     "execution_count": 315,
     "metadata": {},
     "output_type": "execute_result"
    }
   ],
   "source": [
    "my_rec"
   ]
  },
  {
   "cell_type": "markdown",
   "metadata": {},
   "source": [
    "I choose Predator - 3527"
   ]
  },
  {
   "cell_type": "code",
   "execution_count": 316,
   "metadata": {},
   "outputs": [
    {
     "data": {
      "text/html": [
       "<div>\n",
       "<style scoped>\n",
       "    .dataframe tbody tr th:only-of-type {\n",
       "        vertical-align: middle;\n",
       "    }\n",
       "\n",
       "    .dataframe tbody tr th {\n",
       "        vertical-align: top;\n",
       "    }\n",
       "\n",
       "    .dataframe thead th {\n",
       "        text-align: right;\n",
       "    }\n",
       "</style>\n",
       "<table border=\"1\" class=\"dataframe\">\n",
       "  <thead>\n",
       "    <tr style=\"text-align: right;\">\n",
       "      <th>MovieID</th>\n",
       "      <th>1</th>\n",
       "      <th>2</th>\n",
       "      <th>3</th>\n",
       "      <th>4</th>\n",
       "      <th>5</th>\n",
       "      <th>6</th>\n",
       "      <th>7</th>\n",
       "      <th>8</th>\n",
       "      <th>9</th>\n",
       "      <th>10</th>\n",
       "      <th>...</th>\n",
       "      <th>3943</th>\n",
       "      <th>3944</th>\n",
       "      <th>3945</th>\n",
       "      <th>3946</th>\n",
       "      <th>3947</th>\n",
       "      <th>3948</th>\n",
       "      <th>3949</th>\n",
       "      <th>3950</th>\n",
       "      <th>3951</th>\n",
       "      <th>3952</th>\n",
       "    </tr>\n",
       "    <tr>\n",
       "      <th>UserID</th>\n",
       "      <th></th>\n",
       "      <th></th>\n",
       "      <th></th>\n",
       "      <th></th>\n",
       "      <th></th>\n",
       "      <th></th>\n",
       "      <th></th>\n",
       "      <th></th>\n",
       "      <th></th>\n",
       "      <th></th>\n",
       "      <th></th>\n",
       "      <th></th>\n",
       "      <th></th>\n",
       "      <th></th>\n",
       "      <th></th>\n",
       "      <th></th>\n",
       "      <th></th>\n",
       "      <th></th>\n",
       "      <th></th>\n",
       "      <th></th>\n",
       "      <th></th>\n",
       "    </tr>\n",
       "  </thead>\n",
       "  <tbody>\n",
       "    <tr>\n",
       "      <th>1</th>\n",
       "      <td>5.0</td>\n",
       "      <td>0.0</td>\n",
       "      <td>0.0</td>\n",
       "      <td>0.0</td>\n",
       "      <td>0.0</td>\n",
       "      <td>0.0</td>\n",
       "      <td>0.0</td>\n",
       "      <td>0.0</td>\n",
       "      <td>0.0</td>\n",
       "      <td>0.0</td>\n",
       "      <td>...</td>\n",
       "      <td>0.0</td>\n",
       "      <td>0.0</td>\n",
       "      <td>0.0</td>\n",
       "      <td>0.0</td>\n",
       "      <td>0.0</td>\n",
       "      <td>0.0</td>\n",
       "      <td>0.0</td>\n",
       "      <td>0.0</td>\n",
       "      <td>0.0</td>\n",
       "      <td>0.0</td>\n",
       "    </tr>\n",
       "    <tr>\n",
       "      <th>2</th>\n",
       "      <td>0.0</td>\n",
       "      <td>0.0</td>\n",
       "      <td>0.0</td>\n",
       "      <td>0.0</td>\n",
       "      <td>0.0</td>\n",
       "      <td>0.0</td>\n",
       "      <td>0.0</td>\n",
       "      <td>0.0</td>\n",
       "      <td>0.0</td>\n",
       "      <td>0.0</td>\n",
       "      <td>...</td>\n",
       "      <td>0.0</td>\n",
       "      <td>0.0</td>\n",
       "      <td>0.0</td>\n",
       "      <td>0.0</td>\n",
       "      <td>0.0</td>\n",
       "      <td>0.0</td>\n",
       "      <td>0.0</td>\n",
       "      <td>0.0</td>\n",
       "      <td>0.0</td>\n",
       "      <td>0.0</td>\n",
       "    </tr>\n",
       "    <tr>\n",
       "      <th>3</th>\n",
       "      <td>0.0</td>\n",
       "      <td>0.0</td>\n",
       "      <td>0.0</td>\n",
       "      <td>0.0</td>\n",
       "      <td>0.0</td>\n",
       "      <td>0.0</td>\n",
       "      <td>0.0</td>\n",
       "      <td>0.0</td>\n",
       "      <td>0.0</td>\n",
       "      <td>0.0</td>\n",
       "      <td>...</td>\n",
       "      <td>0.0</td>\n",
       "      <td>0.0</td>\n",
       "      <td>0.0</td>\n",
       "      <td>0.0</td>\n",
       "      <td>0.0</td>\n",
       "      <td>0.0</td>\n",
       "      <td>0.0</td>\n",
       "      <td>0.0</td>\n",
       "      <td>0.0</td>\n",
       "      <td>0.0</td>\n",
       "    </tr>\n",
       "    <tr>\n",
       "      <th>4</th>\n",
       "      <td>0.0</td>\n",
       "      <td>0.0</td>\n",
       "      <td>0.0</td>\n",
       "      <td>0.0</td>\n",
       "      <td>0.0</td>\n",
       "      <td>0.0</td>\n",
       "      <td>0.0</td>\n",
       "      <td>0.0</td>\n",
       "      <td>0.0</td>\n",
       "      <td>0.0</td>\n",
       "      <td>...</td>\n",
       "      <td>0.0</td>\n",
       "      <td>0.0</td>\n",
       "      <td>0.0</td>\n",
       "      <td>0.0</td>\n",
       "      <td>0.0</td>\n",
       "      <td>0.0</td>\n",
       "      <td>0.0</td>\n",
       "      <td>0.0</td>\n",
       "      <td>0.0</td>\n",
       "      <td>0.0</td>\n",
       "    </tr>\n",
       "    <tr>\n",
       "      <th>5</th>\n",
       "      <td>0.0</td>\n",
       "      <td>0.0</td>\n",
       "      <td>0.0</td>\n",
       "      <td>0.0</td>\n",
       "      <td>0.0</td>\n",
       "      <td>2.0</td>\n",
       "      <td>0.0</td>\n",
       "      <td>0.0</td>\n",
       "      <td>0.0</td>\n",
       "      <td>0.0</td>\n",
       "      <td>...</td>\n",
       "      <td>0.0</td>\n",
       "      <td>0.0</td>\n",
       "      <td>0.0</td>\n",
       "      <td>0.0</td>\n",
       "      <td>0.0</td>\n",
       "      <td>0.0</td>\n",
       "      <td>0.0</td>\n",
       "      <td>0.0</td>\n",
       "      <td>0.0</td>\n",
       "      <td>0.0</td>\n",
       "    </tr>\n",
       "    <tr>\n",
       "      <th>...</th>\n",
       "      <td>...</td>\n",
       "      <td>...</td>\n",
       "      <td>...</td>\n",
       "      <td>...</td>\n",
       "      <td>...</td>\n",
       "      <td>...</td>\n",
       "      <td>...</td>\n",
       "      <td>...</td>\n",
       "      <td>...</td>\n",
       "      <td>...</td>\n",
       "      <td>...</td>\n",
       "      <td>...</td>\n",
       "      <td>...</td>\n",
       "      <td>...</td>\n",
       "      <td>...</td>\n",
       "      <td>...</td>\n",
       "      <td>...</td>\n",
       "      <td>...</td>\n",
       "      <td>...</td>\n",
       "      <td>...</td>\n",
       "      <td>...</td>\n",
       "    </tr>\n",
       "    <tr>\n",
       "      <th>6036</th>\n",
       "      <td>0.0</td>\n",
       "      <td>0.0</td>\n",
       "      <td>0.0</td>\n",
       "      <td>2.0</td>\n",
       "      <td>0.0</td>\n",
       "      <td>3.0</td>\n",
       "      <td>0.0</td>\n",
       "      <td>0.0</td>\n",
       "      <td>0.0</td>\n",
       "      <td>0.0</td>\n",
       "      <td>...</td>\n",
       "      <td>0.0</td>\n",
       "      <td>0.0</td>\n",
       "      <td>0.0</td>\n",
       "      <td>0.0</td>\n",
       "      <td>0.0</td>\n",
       "      <td>0.0</td>\n",
       "      <td>0.0</td>\n",
       "      <td>0.0</td>\n",
       "      <td>0.0</td>\n",
       "      <td>0.0</td>\n",
       "    </tr>\n",
       "    <tr>\n",
       "      <th>6037</th>\n",
       "      <td>0.0</td>\n",
       "      <td>0.0</td>\n",
       "      <td>0.0</td>\n",
       "      <td>0.0</td>\n",
       "      <td>0.0</td>\n",
       "      <td>0.0</td>\n",
       "      <td>0.0</td>\n",
       "      <td>0.0</td>\n",
       "      <td>0.0</td>\n",
       "      <td>0.0</td>\n",
       "      <td>...</td>\n",
       "      <td>0.0</td>\n",
       "      <td>0.0</td>\n",
       "      <td>0.0</td>\n",
       "      <td>0.0</td>\n",
       "      <td>0.0</td>\n",
       "      <td>0.0</td>\n",
       "      <td>0.0</td>\n",
       "      <td>0.0</td>\n",
       "      <td>0.0</td>\n",
       "      <td>0.0</td>\n",
       "    </tr>\n",
       "    <tr>\n",
       "      <th>6038</th>\n",
       "      <td>0.0</td>\n",
       "      <td>0.0</td>\n",
       "      <td>0.0</td>\n",
       "      <td>0.0</td>\n",
       "      <td>0.0</td>\n",
       "      <td>0.0</td>\n",
       "      <td>0.0</td>\n",
       "      <td>0.0</td>\n",
       "      <td>0.0</td>\n",
       "      <td>0.0</td>\n",
       "      <td>...</td>\n",
       "      <td>0.0</td>\n",
       "      <td>0.0</td>\n",
       "      <td>0.0</td>\n",
       "      <td>0.0</td>\n",
       "      <td>0.0</td>\n",
       "      <td>0.0</td>\n",
       "      <td>0.0</td>\n",
       "      <td>0.0</td>\n",
       "      <td>0.0</td>\n",
       "      <td>0.0</td>\n",
       "    </tr>\n",
       "    <tr>\n",
       "      <th>6039</th>\n",
       "      <td>0.0</td>\n",
       "      <td>0.0</td>\n",
       "      <td>0.0</td>\n",
       "      <td>0.0</td>\n",
       "      <td>0.0</td>\n",
       "      <td>0.0</td>\n",
       "      <td>0.0</td>\n",
       "      <td>0.0</td>\n",
       "      <td>0.0</td>\n",
       "      <td>0.0</td>\n",
       "      <td>...</td>\n",
       "      <td>0.0</td>\n",
       "      <td>0.0</td>\n",
       "      <td>0.0</td>\n",
       "      <td>0.0</td>\n",
       "      <td>0.0</td>\n",
       "      <td>0.0</td>\n",
       "      <td>0.0</td>\n",
       "      <td>0.0</td>\n",
       "      <td>0.0</td>\n",
       "      <td>0.0</td>\n",
       "    </tr>\n",
       "    <tr>\n",
       "      <th>6040</th>\n",
       "      <td>3.0</td>\n",
       "      <td>0.0</td>\n",
       "      <td>0.0</td>\n",
       "      <td>0.0</td>\n",
       "      <td>0.0</td>\n",
       "      <td>0.0</td>\n",
       "      <td>0.0</td>\n",
       "      <td>0.0</td>\n",
       "      <td>0.0</td>\n",
       "      <td>0.0</td>\n",
       "      <td>...</td>\n",
       "      <td>0.0</td>\n",
       "      <td>0.0</td>\n",
       "      <td>0.0</td>\n",
       "      <td>0.0</td>\n",
       "      <td>0.0</td>\n",
       "      <td>0.0</td>\n",
       "      <td>0.0</td>\n",
       "      <td>0.0</td>\n",
       "      <td>0.0</td>\n",
       "      <td>0.0</td>\n",
       "    </tr>\n",
       "  </tbody>\n",
       "</table>\n",
       "<p>6040 rows × 3706 columns</p>\n",
       "</div>"
      ],
      "text/plain": [
       "MovieID  1     2     3     4     5     6     7     8     9     10    ...  \\\n",
       "UserID                                                               ...   \n",
       "1         5.0   0.0   0.0   0.0   0.0   0.0   0.0   0.0   0.0   0.0  ...   \n",
       "2         0.0   0.0   0.0   0.0   0.0   0.0   0.0   0.0   0.0   0.0  ...   \n",
       "3         0.0   0.0   0.0   0.0   0.0   0.0   0.0   0.0   0.0   0.0  ...   \n",
       "4         0.0   0.0   0.0   0.0   0.0   0.0   0.0   0.0   0.0   0.0  ...   \n",
       "5         0.0   0.0   0.0   0.0   0.0   2.0   0.0   0.0   0.0   0.0  ...   \n",
       "...       ...   ...   ...   ...   ...   ...   ...   ...   ...   ...  ...   \n",
       "6036      0.0   0.0   0.0   2.0   0.0   3.0   0.0   0.0   0.0   0.0  ...   \n",
       "6037      0.0   0.0   0.0   0.0   0.0   0.0   0.0   0.0   0.0   0.0  ...   \n",
       "6038      0.0   0.0   0.0   0.0   0.0   0.0   0.0   0.0   0.0   0.0  ...   \n",
       "6039      0.0   0.0   0.0   0.0   0.0   0.0   0.0   0.0   0.0   0.0  ...   \n",
       "6040      3.0   0.0   0.0   0.0   0.0   0.0   0.0   0.0   0.0   0.0  ...   \n",
       "\n",
       "MovieID  3943  3944  3945  3946  3947  3948  3949  3950  3951  3952  \n",
       "UserID                                                               \n",
       "1         0.0   0.0   0.0   0.0   0.0   0.0   0.0   0.0   0.0   0.0  \n",
       "2         0.0   0.0   0.0   0.0   0.0   0.0   0.0   0.0   0.0   0.0  \n",
       "3         0.0   0.0   0.0   0.0   0.0   0.0   0.0   0.0   0.0   0.0  \n",
       "4         0.0   0.0   0.0   0.0   0.0   0.0   0.0   0.0   0.0   0.0  \n",
       "5         0.0   0.0   0.0   0.0   0.0   0.0   0.0   0.0   0.0   0.0  \n",
       "...       ...   ...   ...   ...   ...   ...   ...   ...   ...   ...  \n",
       "6036      0.0   0.0   0.0   0.0   0.0   0.0   0.0   0.0   0.0   0.0  \n",
       "6037      0.0   0.0   0.0   0.0   0.0   0.0   0.0   0.0   0.0   0.0  \n",
       "6038      0.0   0.0   0.0   0.0   0.0   0.0   0.0   0.0   0.0   0.0  \n",
       "6039      0.0   0.0   0.0   0.0   0.0   0.0   0.0   0.0   0.0   0.0  \n",
       "6040      0.0   0.0   0.0   0.0   0.0   0.0   0.0   0.0   0.0   0.0  \n",
       "\n",
       "[6040 rows x 3706 columns]"
      ]
     },
     "execution_count": 316,
     "metadata": {},
     "output_type": "execute_result"
    }
   ],
   "source": [
    "M_non_norm"
   ]
  },
  {
   "cell_type": "code",
   "execution_count": 317,
   "metadata": {},
   "outputs": [],
   "source": [
    "from scipy.sparse.linalg import svds"
   ]
  },
  {
   "cell_type": "code",
   "execution_count": 318,
   "metadata": {
    "id": "3zUd9OvBu7Cj"
   },
   "outputs": [],
   "source": [
    "# Compute Singular Value Decomposition of interaction matrix. You can use built-in functions\n",
    "\n",
    "U,S, V = svds(M_non_norm) # Update this line, it is just example"
   ]
  },
  {
   "cell_type": "code",
   "execution_count": 319,
   "metadata": {},
   "outputs": [
    {
     "data": {
      "text/plain": [
       "(6,)"
      ]
     },
     "execution_count": 319,
     "metadata": {},
     "output_type": "execute_result"
    }
   ],
   "source": [
    "S.shape"
   ]
  },
  {
   "cell_type": "code",
   "execution_count": 320,
   "metadata": {},
   "outputs": [
    {
     "data": {
      "text/plain": [
       "(6, 3706)"
      ]
     },
     "execution_count": 320,
     "metadata": {},
     "output_type": "execute_result"
    }
   ],
   "source": [
    "V.shape"
   ]
  },
  {
   "cell_type": "markdown",
   "metadata": {
    "id": "SMXnKF5Tu7Cj"
   },
   "source": [
    "3) (2 pts) In order to get weighted item-latent factors, we can multiply $S$ and $V^{T}$. Please, remember that $S$ is diagonal and multiply them efficiently."
   ]
  },
  {
   "cell_type": "code",
   "execution_count": 142,
   "metadata": {
    "id": "VEW4M5Ovu7Cj"
   },
   "outputs": [],
   "source": [
    "# Your solutuion is here\n",
    "item_lat_factors = V.T @ np.diag(S)"
   ]
  },
  {
   "cell_type": "code",
   "execution_count": 143,
   "metadata": {},
   "outputs": [
    {
     "data": {
      "text/plain": [
       "array([[  -7.595662  ,   55.50815468,    2.51869681,   17.34027462,\n",
       "         -14.05803769, -132.78437278],\n",
       "       [   2.16959074,    4.26205816,  -16.10740913,   -5.85721537,\n",
       "         -20.00097296,  -44.57339924],\n",
       "       [  -2.32693514,    2.59479539,  -14.06222765,    7.22728994,\n",
       "         -11.21405492,  -26.06163233],\n",
       "       ...,\n",
       "       [   1.5048521 ,   -2.34364985,    0.18932274,    1.02507262,\n",
       "           1.25836648,   -4.95124437],\n",
       "       [   1.10870644,   -0.38517807,    0.57460852,    2.02400885,\n",
       "           1.52066866,   -2.20815915],\n",
       "       [   0.84433917,   -7.06949419,    6.60955231,   12.85237624,\n",
       "           3.37157689,  -25.09750908]])"
      ]
     },
     "execution_count": 143,
     "metadata": {},
     "output_type": "execute_result"
    }
   ],
   "source": [
    "item_lat_factors"
   ]
  },
  {
   "cell_type": "markdown",
   "metadata": {
    "id": "eEMDQkkqu7Ck"
   },
   "source": [
    "Now we have vectors that represent our item space. In other words we have $N$ movies and $N$ vectors which describe each movie, a.k.a. embeddings. \n",
    "In order to know if two movies are similar or not we need just to check if the corresponding vectors are similair or not. How we can do this?\n",
    "\n",
    "4) (2 pts)  Implement the cosine metric. If the cosine metric between two vectors equals to $1$ both vectors are collinear, if $0$ vectors are orthogonal, as a result corresponding movies are completely different.\n",
    "\n",
    "$$\n",
    "cosine(u,v) = \\frac{u^{\\top}v}{\\|u\\|_2\\|v\\|_2}\n",
    "$$"
   ]
  },
  {
   "cell_type": "code",
   "execution_count": 144,
   "metadata": {
    "id": "lAR4dXMOOGI_"
   },
   "outputs": [],
   "source": [
    "# Your solutuion is here\n",
    "\n",
    "def cosine_metric(u,v):\n",
    "    cosine = (u.T@v)/(np.linalg.norm(u)*np.linalg.norm(v))\n",
    "    return cosine"
   ]
  },
  {
   "cell_type": "markdown",
   "metadata": {
    "id": "6wRZh8ALu7C1"
   },
   "source": [
    "5) (5 pts) Check your result. Implement the fuction, which finds and prints $k$ similar movies to the one you have chosen"
   ]
  },
  {
   "cell_type": "code",
   "execution_count": 145,
   "metadata": {
    "id": "26g7MzeWu7C1"
   },
   "outputs": [],
   "source": [
    "# Your solutuion is here\n",
    "def find_similar(your_movie_vec,data,k):\n",
    "    recommend = np.zeros((len(data),2))\n",
    "    for i in range(0,len(item_lat_factors)):\n",
    "        recommend[i,1]= cosine_metric(your_movie_vec,data[i])\n",
    "        recommend[i,0] = i\n",
    "    \n",
    "    #recommend = sorted(recommend, reverse=True, key = lambda x: x[:,1])\n",
    "    recommend = recommend[(-1*recommend[:, 1]).argsort()]\n",
    "    b = []\n",
    "    movie_name = []\n",
    "    movie_genre = []\n",
    "    for i in range(0,k):\n",
    "        b = movies[movies.MovieID == recommend[i,0]]\n",
    "        movie_name.append(b.values[0][1])\n",
    "        movie_genre.append(b.values[0][2])\n",
    "    return movie_name,movie_genre\n",
    "    \n",
    "    \n",
    " #   for i in range(k):\n",
    " #       print (a[i], end =\" \")\n",
    " #   return a\n",
    "\n",
    "    \n"
   ]
  },
  {
   "cell_type": "code",
   "execution_count": 153,
   "metadata": {},
   "outputs": [],
   "source": [
    "name,genre = find_similar(item_lat_factors[3527],item_lat_factors,10)"
   ]
  },
  {
   "cell_type": "code",
   "execution_count": 154,
   "metadata": {},
   "outputs": [
    {
     "data": {
      "text/plain": [
       "['Predator (1987)',\n",
       " 'Gothic (1986)',\n",
       " \"Porky's Revenge (1985)\",\n",
       " 'Rocky IV (1985)',\n",
       " 'Age of Innocence, The (1993)',\n",
       " 'Living Out Loud (1998)',\n",
       " 'Next Stop, Wonderland (1998)',\n",
       " 'Seventh Sign, The (1988)',\n",
       " 'Belizaire the Cajun (1986)',\n",
       " 'Alan Smithee Film: Burn Hollywood Burn, An (1997)']"
      ]
     },
     "execution_count": 154,
     "metadata": {},
     "output_type": "execute_result"
    }
   ],
   "source": [
    "name"
   ]
  },
  {
   "cell_type": "code",
   "execution_count": 148,
   "metadata": {},
   "outputs": [
    {
     "data": {
      "text/plain": [
       "['Drama|Romance',\n",
       " 'Drama',\n",
       " 'Comedy',\n",
       " \"Children's|Comedy\",\n",
       " 'Horror|Mystery|Thriller',\n",
       " 'Comedy',\n",
       " 'Drama',\n",
       " 'Horror',\n",
       " 'Comedy|Fantasy',\n",
       " 'Drama']"
      ]
     },
     "execution_count": 148,
     "metadata": {},
     "output_type": "execute_result"
    }
   ],
   "source": [
    "genre"
   ]
  },
  {
   "cell_type": "markdown",
   "metadata": {
    "id": "oPIQfKcmu7C2"
   },
   "source": [
    "Enjoy watching the recommended movies!\n"
   ]
  },
  {
   "cell_type": "code",
   "execution_count": null,
   "metadata": {},
   "outputs": [],
   "source": []
  }
 ],
 "metadata": {
  "colab": {
   "collapsed_sections": [],
   "name": "hw2_problem_1_3.ipynb",
   "provenance": []
  },
  "kernelspec": {
   "display_name": "Python 3",
   "language": "python",
   "name": "python3"
  },
  "language_info": {
   "codemirror_mode": {
    "name": "ipython",
    "version": 3
   },
   "file_extension": ".py",
   "mimetype": "text/x-python",
   "name": "python",
   "nbconvert_exporter": "python",
   "pygments_lexer": "ipython3",
   "version": "3.8.8"
  }
 },
 "nbformat": 4,
 "nbformat_minor": 4
}
